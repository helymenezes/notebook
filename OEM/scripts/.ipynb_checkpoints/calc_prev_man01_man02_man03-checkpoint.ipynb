{
 "cells": [
  {
   "cell_type": "code",
   "execution_count": 1,
   "id": "9f775a93",
   "metadata": {},
   "outputs": [],
   "source": [
    "import pandas as pd\n",
    "import ipywidgets as widgets\n",
    "from IPython.display import display\n",
    "from ipywidgets import interact\n",
    "import re"
   ]
  },
  {
   "cell_type": "markdown",
   "id": "857a5f47",
   "metadata": {
    "tags": []
   },
   "source": [
    "# Atenção antes usar o app filtrar por tipo de Manuntencao preventivo \n"
   ]
  },
  {
   "cell_type": "code",
   "execution_count": 3,
   "id": "bf6b28e5-46b9-415d-842a-b045a40c594e",
   "metadata": {},
   "outputs": [
    {
     "data": {
      "application/vnd.jupyter.widget-view+json": {
       "model_id": "f9bea7c8c4a0444383a4a1ffd7d7dd1f",
       "version_major": 2,
       "version_minor": 0
      },
      "text/plain": [
       "DatePicker(value=datetime.date(2022, 1, 1), step=1)"
      ]
     },
     "metadata": {},
     "output_type": "display_data"
    },
    {
     "data": {
      "application/vnd.jupyter.widget-view+json": {
       "model_id": "44bfe7ad011e4fc59bbccbfae164525b",
       "version_major": 2,
       "version_minor": 0
      },
      "text/plain": [
       "DatePicker(value=datetime.date(2024, 5, 15), step=1)"
      ]
     },
     "metadata": {},
     "output_type": "display_data"
    },
    {
     "data": {
      "application/vnd.jupyter.widget-view+json": {
       "model_id": "c0caa3b1a8924b7ba04f4eb65c0d1f53",
       "version_major": 2,
       "version_minor": 0
      },
      "text/plain": [
       "HBox(children=(SelectMultiple(description='Origem:', options=('FORNECEDOR', 'ENERGISA', 'ONE ENGENHARIA'), val…"
      ]
     },
     "metadata": {},
     "output_type": "display_data"
    },
    {
     "data": {
      "application/vnd.jupyter.widget-view+json": {
       "model_id": "f7a9e7e626e9406d95ae86eac9d0e5c3",
       "version_major": 2,
       "version_minor": 0
      },
      "text/plain": [
       "HBox(children=(SelectMultiple(options=('INTERMITENCIA', 'FALHA DE BATERIAS', 'EQUIPAMENTOS DANIFICADOS', 'MANU…"
      ]
     },
     "metadata": {},
     "output_type": "display_data"
    }
   ],
   "source": [
    "df_filtered_global = None\n",
    "\n",
    "def ler_planilha():\n",
    "    \"\"\"Lê uma planilha do Excel.\"\"\"\n",
    "    excluir_status = ['TREINAMENTO','DUPLICADO','CANCELADO ']\n",
    "    df_bd = pd.read_excel(r\"C:\\Users\\helym\\projetos_python\\jupyter\\OEM\\content\\base_sip_Concluido.xlsx\")\n",
    "    df = df_bd[~df_bd['STATUS'].isin(excluir_status)]\n",
    "    return df\n",
    "\n",
    "def aplicar_filtros(rota_value, status_value, tipo_value, executor_value, origem_value, tipocausa_value, data_inicial, data_final):\n",
    "    \"\"\"Aplica filtros a uma planilha.\"\"\"\n",
    "    global df_filtered_global_oem\n",
    "    df_filtered_global_oem = df[\n",
    "        df[\"ROTA\"].isin(rota_value) &\n",
    "        df[\"STATUS\"].isin(status_value) &\n",
    "        df[\"TIPO\"].isin(tipo_value) &\n",
    "        df[\"EXECUTOR\"].isin(executor_value) &\n",
    "        df[\"ORIGEM\"].isin(origem_value) &\n",
    "        df[\"TIPOCAUSA\"].isin(tipocausa_value) &\n",
    "        (df[\"DATACONCLUSAO\"] >= data_inicial) &\n",
    "        (df[\"DATACONCLUSAO\"] <= data_final)\n",
    "    ]\n",
    "    return df_filtered_global_oem\n",
    "\n",
    "if __name__ == \"__main__\":\n",
    "    df = ler_planilha()\n",
    "\n",
    "    df[\"DATACONCLUSAO\"] = pd.to_datetime(df[\"DATACONCLUSAO\"]).dt.date\n",
    "\n",
    "    rota_options = sorted(list(df['ROTA'].unique()))\n",
    "    rota_filter = widgets.SelectMultiple(options=rota_options, description=\"Rotas:\")\n",
    "\n",
    "    status_options = list(df['STATUS'].unique())\n",
    "    status_filter = widgets.SelectMultiple(options=status_options, description=\"Status:\")\n",
    "\n",
    "    tipo_options = list(df['TIPO'].unique())\n",
    "    tipo_filter = widgets.SelectMultiple(options=tipo_options, description=\"Tipo:\")\n",
    "\n",
    "    executor_options = sorted(list(df['EXECUTOR'].unique()))\n",
    "    executor_filter = widgets.SelectMultiple(options=executor_options, description=\"Usuário:\")\n",
    "\n",
    "    origem_options = list(df['ORIGEM'].unique())\n",
    "    origem_filter = widgets.SelectMultiple(options=origem_options, description=\"Origem:\")\n",
    "\n",
    "    tipocausa_options = list(df['TIPOCAUSA'].unique())\n",
    "    tipocausa_filter = widgets.SelectMultiple(options=tipocausa_options,descrition=\"Tipo Causa\")\n",
    "\n",
    "    data_inicial_filter = widgets.DatePicker(value=df[\"DATACONCLUSAO\"].min())\n",
    "    data_final_filter = widgets.DatePicker(value=df[\"DATACONCLUSAO\"].max())\n",
    "\n",
    "    aplicar_filter_button = widgets.Button(description=\"Aplicar filtros\")\n",
    "\n",
    "    def on_button_click(event):\n",
    "        global df_filtered_global\n",
    "        df_filtrado = aplicar_filtros(\n",
    "            rota_filter.value, status_filter.value, tipo_filter.value,\n",
    "            executor_filter.value, origem_filter.value,\n",
    "            tipocausa_filter.value,\n",
    "            data_inicial_filter.value, data_final_filter.value\n",
    "        )\n",
    "        df_filtered_global = df_filtrado\n",
    "\n",
    "    aplicar_filter_button.on_click(on_button_click)\n",
    "\n",
    "    display(data_inicial_filter)\n",
    "    display(data_final_filter)\n",
    "\n",
    "    display(\n",
    "        widgets.HBox([origem_filter, tipo_filter, rota_filter, executor_filter, status_filter],\n",
    "                     layout=widgets.Layout(align_items='baseline'))\n",
    "    )\n",
    "    display(\n",
    "        widgets.HBox([tipocausa_filter, aplicar_filter_button],\n",
    "                     layout=widgets.Layout(align_items='center'))\n",
    "    )"
   ]
  },
  {
   "cell_type": "code",
   "execution_count": 4,
   "id": "8c91dde1-93c3-4fee-b37f-d9ce9fc39d79",
   "metadata": {},
   "outputs": [
    {
     "data": {
      "application/vnd.jupyter.widget-view+json": {
       "model_id": "a4a85138ba384bd98304a4a987f3abae",
       "version_major": 2,
       "version_minor": 0
      },
      "text/plain": [
       "DatePicker(value=datetime.date(2023, 5, 22), step=1)"
      ]
     },
     "metadata": {},
     "output_type": "display_data"
    },
    {
     "data": {
      "application/vnd.jupyter.widget-view+json": {
       "model_id": "0ee44f7977504f42ab3e9ccca9a6b708",
       "version_major": 2,
       "version_minor": 0
      },
      "text/plain": [
       "DatePicker(value=datetime.date(2024, 4, 28), step=1)"
      ]
     },
     "metadata": {},
     "output_type": "display_data"
    },
    {
     "data": {
      "application/vnd.jupyter.widget-view+json": {
       "model_id": "08abfc6e19c440a694b5cbc8b5d56a2c",
       "version_major": 2,
       "version_minor": 0
      },
      "text/plain": [
       "HBox(children=(SelectMultiple(description='Tipo:', options=('INS', 'CAD'), value=()), SelectMultiple(descripti…"
      ]
     },
     "metadata": {},
     "output_type": "display_data"
    },
    {
     "data": {
      "application/vnd.jupyter.widget-view+json": {
       "model_id": "f3b310f0a2554cd4baf608400791e76d",
       "version_major": 2,
       "version_minor": 0
      },
      "text/plain": [
       "HBox(children=(Button(description='Aplicar filtros', style=ButtonStyle()),), layout=Layout(align_items='center…"
      ]
     },
     "metadata": {},
     "output_type": "display_data"
    }
   ],
   "source": [
    "def ler_planilha():\n",
    "    \"\"\"Lê uma planilha do Excel.\"\"\"\n",
    "    excluir_status = ['TREINAMENTO','CADASTRO','TREINAMENTO']\n",
    "    excluir_usuario = ['LUIZ.CARLOS']\n",
    "    excluir_rota = [70,55]\n",
    "    df_bd = pd.read_excel(r\"C:\\Users\\helym\\projetos_python\\jupyter\\INS\\content\\base_sip_instalacoes_Geral_ac.xlsx\")\n",
    "    df = df_bd[~df_bd['STATUS'].isin(excluir_status)]\n",
    "    df = df[~df['USUARIO'].isin(excluir_usuario)]\n",
    "    df = df[~df['ROTA'].isin(excluir_rota)]\n",
    "    return df\n",
    "\n",
    "def aplicar_filtros(rota_value, status_value, tipo_value, executor_value, data_inicial, data_final,etapa_value):\n",
    "    \"\"\"Aplica filtros a uma planilha.\"\"\"\n",
    "    global df_filtered_global\n",
    "    df_filtered_global = df[\n",
    "        df[\"ROTA\"].isin(rota_value) &\n",
    "        df[\"STATUS\"].isin(status_value) &\n",
    "        df[\"TIPO\"].isin(tipo_value) &\n",
    "        df[\"USUARIO\"].isin(executor_value) &\n",
    "        df[\"ETAPA\"].isin(etapa_value) &\n",
    "        (df[\"CONCLUSAO\"] >= data_inicial) &\n",
    "        (df[\"CONCLUSAO\"] <= data_final)\n",
    "    ]\n",
    "    return df_filtered_global\n",
    "\n",
    "if __name__ == \"__main__\":\n",
    "    df = ler_planilha()\n",
    "\n",
    "    df[\"CONCLUSAO\"] = pd.to_datetime(df[\"CONCLUSAO\"]).dt.date\n",
    "\n",
    "    # Criar filtros\n",
    "    rota_options = sorted(list(df['ROTA'].unique()))\n",
    "    rota_filter = widgets.SelectMultiple(options=rota_options, description=\"Rotas:\")\n",
    "\n",
    "    status_options = list(df['STATUS'].unique())\n",
    "    status_filter = widgets.SelectMultiple(options=status_options, description=\"Status:\")\n",
    "\n",
    "    tipo_options = list(df['TIPO'].unique())\n",
    "    tipo_filter = widgets.SelectMultiple(options=tipo_options, description=\"Tipo:\")\n",
    "\n",
    "    executor_options = list(df['USUARIO'].unique())\n",
    "    executor_filter = widgets.SelectMultiple(options=executor_options, description=\"Usuário:\")\n",
    "\n",
    "    etapa_options = list(df['ETAPA'].unique())\n",
    "    etapa_filter = widgets.SelectMultiple(options=etapa_options, description=\"Etapa:\")\n",
    "\n",
    "    data_inicial_filter = widgets.DatePicker(value=df[\"CONCLUSAO\"].min())\n",
    "    data_final_filter = widgets.DatePicker(value=df[\"CONCLUSAO\"].max())\n",
    "\n",
    "    # Criar um botão para aplicar os filtros\n",
    "    aplicar_filter_button = widgets.Button(description=\"Aplicar filtros\")\n",
    "\n",
    "    # Atribuir um callback ao botão\n",
    "    def on_button_click(event):\n",
    "        df_filtrado = aplicar_filtros(\n",
    "            rota_filter.value, status_filter.value, tipo_filter.value,\n",
    "            executor_filter.value, data_inicial_filter.value, data_final_filter.value,\n",
    "            etapa_filter.value\n",
    "        )\n",
    "        # Agora você pode fazer algo com df_filtrado\n",
    "\n",
    "    aplicar_filter_button.on_click(on_button_click)\n",
    "\n",
    "    # Exibir os filtros\n",
    "    display(data_inicial_filter)\n",
    "    display(data_final_filter)\n",
    "\n",
    "    display(\n",
    "        widgets.HBox([tipo_filter, rota_filter, executor_filter, status_filter,etapa_filter],\n",
    "                     layout=widgets.Layout(align_items='baseline'))\n",
    "    )\n",
    "    display(\n",
    "        widgets.HBox([aplicar_filter_button],\n",
    "                     layout=widgets.Layout(align_items='center'))\n",
    "    )"
   ]
  },
  {
   "cell_type": "code",
   "execution_count": 5,
   "id": "b5974029",
   "metadata": {},
   "outputs": [],
   "source": [
    "base_geral_con = df_filtered_global_oem"
   ]
  },
  {
   "cell_type": "code",
   "execution_count": 6,
   "id": "9fb20a5f",
   "metadata": {},
   "outputs": [],
   "source": [
    "inst_total = df_filtered_global"
   ]
  },
  {
   "cell_type": "markdown",
   "id": "d020fa5a",
   "metadata": {
    "tags": []
   },
   "source": [
    "## Filtros por tipo de Manutencao executada 1A"
   ]
  },
  {
   "cell_type": "code",
   "execution_count": 7,
   "id": "83c2e48b",
   "metadata": {},
   "outputs": [
    {
     "data": {
      "text/plain": [
       "(5164, 52)"
      ]
     },
     "execution_count": 7,
     "metadata": {},
     "output_type": "execute_result"
    }
   ],
   "source": [
    "# Removendo os STATUS 'CANCELADO','NAO CONFORME','TREINADO'\n",
    "excluirstatus = ['CANCELADO','DUPLICADO','TREINAMENTO']\n",
    "\n",
    "base_geral_con = base_geral_con.drop(base_geral_con[(base_geral_con['STATUS'].str.contains('|'.join(excluirstatus))) |\n",
    "                         (base_geral_con['STATUS'].str.contains('|'.join(excluirstatus))) |\n",
    "                         (base_geral_con['STATUS'].str.contains('|'.join(excluirstatus))) |\n",
    "                         (base_geral_con['STATUS'].str.contains('|'.join(excluirstatus))) |\n",
    "                         (base_geral_con['STATUS'].str.contains('|'.join(excluirstatus)))].index)\n",
    "\n",
    "base_geral_con.shape"
   ]
  },
  {
   "cell_type": "code",
   "execution_count": 8,
   "id": "50b9d152",
   "metadata": {},
   "outputs": [
    {
     "data": {
      "text/plain": [
       "(1383, 52)"
      ]
     },
     "execution_count": 8,
     "metadata": {},
     "output_type": "execute_result"
    }
   ],
   "source": [
    "# Identificação da data de conclusão da manutencao preventiva 1A.\n",
    "df_man_ex1A = base_geral_con.loc[(base_geral_con['TIPOCAUSA'] =='MANUT PREVENTIVA 1A')]\n",
    "df_man_ex1A.shape"
   ]
  },
  {
   "cell_type": "markdown",
   "id": "de4434bf",
   "metadata": {
    "tags": []
   },
   "source": [
    "## Filtros por tipo de Manutencao executada 2A"
   ]
  },
  {
   "cell_type": "code",
   "execution_count": 9,
   "id": "b4c1f5ed",
   "metadata": {},
   "outputs": [
    {
     "data": {
      "text/plain": [
       "(1382, 52)"
      ]
     },
     "execution_count": 9,
     "metadata": {},
     "output_type": "execute_result"
    }
   ],
   "source": [
    "# Identificação da data de conclusão da manutencao preventiva 1A.\n",
    "df_man_ex2A = base_geral_con.loc[(base_geral_con['TIPOCAUSA'] =='MANUT PREVENTIVA 2A')]\n",
    "df_man_ex2A.shape"
   ]
  },
  {
   "cell_type": "markdown",
   "id": "3021ebb3-d592-4c33-bd00-f476a1028453",
   "metadata": {},
   "source": [
    "## Filtros por tipo de Manutencao executada 3A"
   ]
  },
  {
   "cell_type": "code",
   "execution_count": 10,
   "id": "ae641629-4be3-4075-99b9-e9ce57c2961a",
   "metadata": {},
   "outputs": [
    {
     "data": {
      "text/plain": [
       "(1378, 52)"
      ]
     },
     "execution_count": 10,
     "metadata": {},
     "output_type": "execute_result"
    }
   ],
   "source": [
    "df_man_ex3A = base_geral_con.loc[(base_geral_con['TIPOCAUSA'] =='MANUT PREVENTIVA 3A')]\n",
    "df_man_ex3A.shape"
   ]
  },
  {
   "cell_type": "markdown",
   "id": "dbec3dde-9fcc-4caf-a626-41ff8c8c1ed5",
   "metadata": {},
   "source": [
    "## Filtro por tipo de Manutenção executada 4A"
   ]
  },
  {
   "cell_type": "code",
   "execution_count": 11,
   "id": "e5de3676-7f76-41bd-b69a-acc605573dde",
   "metadata": {},
   "outputs": [
    {
     "data": {
      "text/plain": [
       "(1000, 52)"
      ]
     },
     "execution_count": 11,
     "metadata": {},
     "output_type": "execute_result"
    }
   ],
   "source": [
    "df_man_ex4A = base_geral_con.loc[(base_geral_con['TIPOCAUSA'] =='MANUT PREVENTIVA 4A')]\n",
    "df_man_ex4A.shape"
   ]
  },
  {
   "cell_type": "markdown",
   "id": "db54d5ca-70f3-49ce-838d-cb9bb36a16ed",
   "metadata": {},
   "source": [
    "## Filtro por tipo de Manutenção executada 5A"
   ]
  },
  {
   "cell_type": "code",
   "execution_count": 12,
   "id": "b0eb3e5a-d75d-47e6-9463-9ba1b024ce83",
   "metadata": {},
   "outputs": [
    {
     "data": {
      "text/plain": [
       "(0, 52)"
      ]
     },
     "execution_count": 12,
     "metadata": {},
     "output_type": "execute_result"
    }
   ],
   "source": [
    "df_man_ex5A = base_geral_con.loc[(base_geral_con['TIPOCAUSA'] =='MANUT PREVENTIVA 5A')]\n",
    "df_man_ex5A.shape"
   ]
  },
  {
   "cell_type": "markdown",
   "id": "8bb3761d-235c-42ab-b934-60cf75196415",
   "metadata": {},
   "source": [
    "## Filtro por tipo de Manutenção executada 5A"
   ]
  },
  {
   "cell_type": "markdown",
   "id": "452c420f",
   "metadata": {
    "tags": []
   },
   "source": [
    "# Identificação de duplicidade Data da instalções, 1A, 2A"
   ]
  },
  {
   "cell_type": "code",
   "execution_count": 13,
   "id": "68512c74",
   "metadata": {},
   "outputs": [
    {
     "data": {
      "text/plain": [
       "0"
      ]
     },
     "execution_count": 13,
     "metadata": {},
     "output_type": "execute_result"
    }
   ],
   "source": [
    "#Somando as Duplicidade manutenção instações sendo que o mesmo ser igual zero.\n",
    "inst_total['IDSERVICOSCONJ'].duplicated().sum()"
   ]
  },
  {
   "cell_type": "code",
   "execution_count": 14,
   "id": "e5ebe6b0",
   "metadata": {},
   "outputs": [
    {
     "data": {
      "text/plain": [
       "0"
      ]
     },
     "execution_count": 14,
     "metadata": {},
     "output_type": "execute_result"
    }
   ],
   "source": [
    "#Somando as Duplicidade manutenção preventiva 1A sendo que o mesmo ser igual zero.\n",
    "df_man_ex1A['IDSIGFI'].duplicated().sum()"
   ]
  },
  {
   "cell_type": "code",
   "execution_count": 15,
   "id": "196ea03f",
   "metadata": {},
   "outputs": [
    {
     "data": {
      "text/html": [
       "<div>\n",
       "<style scoped>\n",
       "    .dataframe tbody tr th:only-of-type {\n",
       "        vertical-align: middle;\n",
       "    }\n",
       "\n",
       "    .dataframe tbody tr th {\n",
       "        vertical-align: top;\n",
       "    }\n",
       "\n",
       "    .dataframe thead th {\n",
       "        text-align: right;\n",
       "    }\n",
       "</style>\n",
       "<table border=\"1\" class=\"dataframe\">\n",
       "  <thead>\n",
       "    <tr style=\"text-align: right;\">\n",
       "      <th></th>\n",
       "      <th>NUMOS</th>\n",
       "      <th>IDSIGFI</th>\n",
       "      <th>DTCONCLUSAO</th>\n",
       "      <th>ROTA</th>\n",
       "      <th>STATUS</th>\n",
       "      <th>TIPOCAUSA</th>\n",
       "    </tr>\n",
       "  </thead>\n",
       "  <tbody>\n",
       "  </tbody>\n",
       "</table>\n",
       "</div>"
      ],
      "text/plain": [
       "Empty DataFrame\n",
       "Columns: [NUMOS, IDSIGFI, DTCONCLUSAO, ROTA, STATUS, TIPOCAUSA]\n",
       "Index: []"
      ]
     },
     "metadata": {},
     "output_type": "display_data"
    }
   ],
   "source": [
    "# Apresentar as Duplicidades caso valor seja maior que zero\n",
    "def encontrar_duplicados(df_man_ex1A):\n",
    "    duplicados = df_man_ex1A[df_man_ex1A['IDSIGFI'].duplicated()]\n",
    "    return duplicados\n",
    "\n",
    "# Exemplo de uso\n",
    "duplicados_df = encontrar_duplicados(df_man_ex1A)\n",
    "duplicidade = duplicados_df[['NUMOS','IDSIGFI','DTCONCLUSAO','ROTA','STATUS','TIPOCAUSA']]\n",
    "display(duplicidade)"
   ]
  },
  {
   "cell_type": "code",
   "execution_count": 16,
   "id": "94dbf0b8",
   "metadata": {},
   "outputs": [
    {
     "data": {
      "text/plain": [
       "1"
      ]
     },
     "execution_count": 16,
     "metadata": {},
     "output_type": "execute_result"
    }
   ],
   "source": [
    "#Somando as Duplicidade manutenção preventiva 1A sendo que o mesmo ser igual zero.\n",
    "df_man_ex2A['IDSIGFI'].duplicated().sum()"
   ]
  },
  {
   "cell_type": "code",
   "execution_count": 17,
   "id": "43428724-2a66-49a0-8142-975773f549e2",
   "metadata": {},
   "outputs": [
    {
     "data": {
      "text/plain": [
       "1"
      ]
     },
     "execution_count": 17,
     "metadata": {},
     "output_type": "execute_result"
    }
   ],
   "source": [
    "#Somando as Duplicidade manutenção preventiva 1A sendo que o mesmo ser igual zero.\n",
    "df_man_ex3A['IDSIGFI'].duplicated().sum()"
   ]
  },
  {
   "cell_type": "code",
   "execution_count": 18,
   "id": "6ed8e218-c357-491b-8f76-292d063cd033",
   "metadata": {},
   "outputs": [
    {
     "data": {
      "text/plain": [
       "1"
      ]
     },
     "execution_count": 18,
     "metadata": {},
     "output_type": "execute_result"
    }
   ],
   "source": [
    "#Somando as Duplicidade manutenção preventiva 1A sendo que o mesmo ser igual zero.\n",
    "df_man_ex4A['IDSIGFI'].duplicated().sum()"
   ]
  },
  {
   "cell_type": "markdown",
   "id": "2575ebf0",
   "metadata": {
    "tags": []
   },
   "source": [
    "# Calcular previsão Manutencão  1A,2A e 3A"
   ]
  },
  {
   "cell_type": "markdown",
   "id": "4c09b189",
   "metadata": {
    "tags": []
   },
   "source": [
    "## Previsão para manutenção 1A (base planilha instalações sip)\n"
   ]
  },
  {
   "cell_type": "code",
   "execution_count": 19,
   "id": "437bc2c3",
   "metadata": {},
   "outputs": [
    {
     "data": {
      "text/plain": [
       "(1299, 9)"
      ]
     },
     "execution_count": 19,
     "metadata": {},
     "output_type": "execute_result"
    }
   ],
   "source": [
    "df_man_prev1A = inst_total[['IDSERVICOSCONJ','CODIGOENERGISA','NOMEDOCLIENTE','ROTA','MUNICIPIO', 'ENDERECO','DATA_IN','LATITUDE',\n",
    "                            'LONGITUDE']]\n",
    "df_man_prev1A = df_man_prev1A.loc[df_man_prev1A['DATA_IN'].dt.year > 2022]\n",
    "df_man_prev1A.shape"
   ]
  },
  {
   "cell_type": "code",
   "execution_count": 20,
   "id": "2bde09cc",
   "metadata": {},
   "outputs": [
    {
     "name": "stdout",
     "output_type": "stream",
     "text": [
      "(1299, 11)\n"
     ]
    },
    {
     "data": {
      "text/html": [
       "<div>\n",
       "<style scoped>\n",
       "    .dataframe tbody tr th:only-of-type {\n",
       "        vertical-align: middle;\n",
       "    }\n",
       "\n",
       "    .dataframe tbody tr th {\n",
       "        vertical-align: top;\n",
       "    }\n",
       "\n",
       "    .dataframe thead th {\n",
       "        text-align: right;\n",
       "    }\n",
       "</style>\n",
       "<table border=\"1\" class=\"dataframe\">\n",
       "  <thead>\n",
       "    <tr style=\"text-align: right;\">\n",
       "      <th></th>\n",
       "      <th>IDSERVICOSCONJ</th>\n",
       "      <th>CODIGOENERGISA</th>\n",
       "      <th>NOMEDOCLIENTE</th>\n",
       "      <th>ROTA</th>\n",
       "      <th>MUNICIPIO</th>\n",
       "      <th>ENDERECO</th>\n",
       "      <th>DATA_IN</th>\n",
       "      <th>LATITUDE</th>\n",
       "      <th>LONGITUDE</th>\n",
       "      <th>PREV01A_120</th>\n",
       "      <th>PREV01A_180</th>\n",
       "    </tr>\n",
       "  </thead>\n",
       "  <tbody>\n",
       "    <tr>\n",
       "      <th>1</th>\n",
       "      <td>17441</td>\n",
       "      <td>1</td>\n",
       "      <td>MARCIANE DO NASCIMENTO SILVA</td>\n",
       "      <td>14</td>\n",
       "      <td>MANCIO LIMA</td>\n",
       "      <td>RIO AZUL; COMUNIDADE 3 UNIDOS</td>\n",
       "      <td>2023-09-25 11:16:00</td>\n",
       "      <td>0.00000</td>\n",
       "      <td>0.0000</td>\n",
       "      <td>2024-02-22 11:16:00</td>\n",
       "      <td>2024-03-23 11:16:00</td>\n",
       "    </tr>\n",
       "    <tr>\n",
       "      <th>2</th>\n",
       "      <td>16480</td>\n",
       "      <td>L1.2023-0494</td>\n",
       "      <td>ANTÔNIA CESÁRIO DOS SANTOS</td>\n",
       "      <td>17</td>\n",
       "      <td>PORTO WALTER</td>\n",
       "      <td>COMUNIDADE RAIMUNDO DO VALE</td>\n",
       "      <td>2023-11-13 00:00:00</td>\n",
       "      <td>-8.45317</td>\n",
       "      <td>-72.5384</td>\n",
       "      <td>2024-04-11 00:00:00</td>\n",
       "      <td>2024-05-11 00:00:00</td>\n",
       "    </tr>\n",
       "  </tbody>\n",
       "</table>\n",
       "</div>"
      ],
      "text/plain": [
       "   IDSERVICOSCONJ CODIGOENERGISA                 NOMEDOCLIENTE  ROTA  \\\n",
       "1           17441              1  MARCIANE DO NASCIMENTO SILVA    14   \n",
       "2           16480   L1.2023-0494    ANTÔNIA CESÁRIO DOS SANTOS    17   \n",
       "\n",
       "      MUNICIPIO                       ENDERECO             DATA_IN  LATITUDE  \\\n",
       "1   MANCIO LIMA  RIO AZUL; COMUNIDADE 3 UNIDOS 2023-09-25 11:16:00   0.00000   \n",
       "2  PORTO WALTER    COMUNIDADE RAIMUNDO DO VALE 2023-11-13 00:00:00  -8.45317   \n",
       "\n",
       "   LONGITUDE         PREV01A_120         PREV01A_180  \n",
       "1     0.0000 2024-02-22 11:16:00 2024-03-23 11:16:00  \n",
       "2   -72.5384 2024-04-11 00:00:00 2024-05-11 00:00:00  "
      ]
     },
     "execution_count": 20,
     "metadata": {},
     "output_type": "execute_result"
    }
   ],
   "source": [
    "#Cálculo de previsão de 120 e 180 manutenção preventivo 01A\n",
    "contagem_dias = [150, 180]\n",
    "prev_columns = ['PREV01A']\n",
    "install_column = 'DATA_IN'\n",
    "\n",
    "for i, prev_col in enumerate(prev_columns):\n",
    "    if i == 0:\n",
    "        df_man_prev1A[f'{prev_col}_120'] = df_man_prev1A[install_column] + pd.Timedelta(days=contagem_dias[0])\n",
    "        df_man_prev1A[f'{prev_col}_180'] = df_man_prev1A[install_column] + pd.Timedelta(days=contagem_dias[1])\n",
    "    else:\n",
    "        prev_col_prev = prev_columns[i-1]\n",
    "        df_man_prev1A[f'{prev_col}_120'] = df_man_prev1A[f'{prev_col_prev}_120'] + pd.Timedelta(days=contagem_dias[0])\n",
    "        df_man_prev1A[f'{prev_col}_180'] = df_man_prev1A[f'{prev_col_prev}_180'] + pd.Timedelta(days=contagem_dias[1])\n",
    "print(df_man_prev1A.shape)\n",
    "df_man_prev1A.head(2)"
   ]
  },
  {
   "cell_type": "markdown",
   "id": "9aadd58d",
   "metadata": {
    "tags": []
   },
   "source": [
    "## Previsão para manutenção 2A (base Manutencao executada 1A)"
   ]
  },
  {
   "cell_type": "code",
   "execution_count": 21,
   "id": "eaf271cb",
   "metadata": {},
   "outputs": [],
   "source": [
    "previsao_manut_2A = df_man_ex1A[['IDSIGFI','UC','NOMECLIENTE','ROTA','NUMOS','STATUS','LATLONCON','MUNICIPIO', 'ENDERECO','DTCONCLUSAO']]\n",
    "df_man_prev2A = previsao_manut_2A.rename(columns={'LATLONCON': 'LATITUDE/LONGITUDE','DTCONCLUSAO': 'EXECUTADO_MANUT_1A'})"
   ]
  },
  {
   "cell_type": "code",
   "execution_count": 22,
   "id": "d11197ac",
   "metadata": {},
   "outputs": [
    {
     "name": "stdout",
     "output_type": "stream",
     "text": [
      "(1383, 12)\n"
     ]
    },
    {
     "data": {
      "text/html": [
       "<div>\n",
       "<style scoped>\n",
       "    .dataframe tbody tr th:only-of-type {\n",
       "        vertical-align: middle;\n",
       "    }\n",
       "\n",
       "    .dataframe tbody tr th {\n",
       "        vertical-align: top;\n",
       "    }\n",
       "\n",
       "    .dataframe thead th {\n",
       "        text-align: right;\n",
       "    }\n",
       "</style>\n",
       "<table border=\"1\" class=\"dataframe\">\n",
       "  <thead>\n",
       "    <tr style=\"text-align: right;\">\n",
       "      <th></th>\n",
       "      <th>IDSIGFI</th>\n",
       "      <th>UC</th>\n",
       "      <th>NOMECLIENTE</th>\n",
       "      <th>ROTA</th>\n",
       "      <th>NUMOS</th>\n",
       "      <th>STATUS</th>\n",
       "      <th>LATITUDE/LONGITUDE</th>\n",
       "      <th>MUNICIPIO</th>\n",
       "      <th>ENDERECO</th>\n",
       "      <th>EXECUTADO_MANUT_1A</th>\n",
       "      <th>PREV02A_120</th>\n",
       "      <th>PREV02A_180</th>\n",
       "    </tr>\n",
       "  </thead>\n",
       "  <tbody>\n",
       "    <tr>\n",
       "      <th>4778</th>\n",
       "      <td>15783</td>\n",
       "      <td>688758.0</td>\n",
       "      <td>ROSA BERNARDO DA COSTA</td>\n",
       "      <td>13.0</td>\n",
       "      <td>202300017920</td>\n",
       "      <td>VALIDADO</td>\n",
       "      <td>-7.931884999999999,-71.61178333333334</td>\n",
       "      <td>TARAUACA</td>\n",
       "      <td>BR 364. RIO TAUARI. COLÔNIA SÃO FRANCISCO    B...</td>\n",
       "      <td>2023-07-12 09:33:00</td>\n",
       "      <td>2023-11-09 09:33:00</td>\n",
       "      <td>2024-01-08 09:33:00</td>\n",
       "    </tr>\n",
       "    <tr>\n",
       "      <th>4779</th>\n",
       "      <td>15781</td>\n",
       "      <td>688912.0</td>\n",
       "      <td>RAIMUNDO NONATO DOS SANTOS SILVA</td>\n",
       "      <td>13.0</td>\n",
       "      <td>202300017912</td>\n",
       "      <td>VALIDADO</td>\n",
       "      <td>-7.931748333333333,-71.61158999999999</td>\n",
       "      <td>TARAUACA</td>\n",
       "      <td>BR 364. RIO TAUARI.  COLÔNIA SÃO FRANCISCO    ...</td>\n",
       "      <td>2023-07-12 09:01:00</td>\n",
       "      <td>2023-11-09 09:01:00</td>\n",
       "      <td>2024-01-08 09:01:00</td>\n",
       "    </tr>\n",
       "  </tbody>\n",
       "</table>\n",
       "</div>"
      ],
      "text/plain": [
       "      IDSIGFI        UC                       NOMECLIENTE  ROTA         NUMOS  \\\n",
       "4778    15783  688758.0            ROSA BERNARDO DA COSTA  13.0  202300017920   \n",
       "4779    15781  688912.0  RAIMUNDO NONATO DOS SANTOS SILVA  13.0  202300017912   \n",
       "\n",
       "            STATUS                     LATITUDE/LONGITUDE MUNICIPIO  \\\n",
       "4778  VALIDADO      -7.931884999999999,-71.61178333333334  TARAUACA   \n",
       "4779  VALIDADO      -7.931748333333333,-71.61158999999999  TARAUACA   \n",
       "\n",
       "                                               ENDERECO  EXECUTADO_MANUT_1A  \\\n",
       "4778  BR 364. RIO TAUARI. COLÔNIA SÃO FRANCISCO    B... 2023-07-12 09:33:00   \n",
       "4779  BR 364. RIO TAUARI.  COLÔNIA SÃO FRANCISCO    ... 2023-07-12 09:01:00   \n",
       "\n",
       "             PREV02A_120         PREV02A_180  \n",
       "4778 2023-11-09 09:33:00 2024-01-08 09:33:00  \n",
       "4779 2023-11-09 09:01:00 2024-01-08 09:01:00  "
      ]
     },
     "execution_count": 22,
     "metadata": {},
     "output_type": "execute_result"
    }
   ],
   "source": [
    "#Cálculo de previsão de 120 e 180 manutenção preventivo 02A\n",
    "contagem_dias = [120, 180]\n",
    "prev_columns = ['PREV02A']\n",
    "install_column = 'EXECUTADO_MANUT_1A'\n",
    "\n",
    "for i, prev_col in enumerate(prev_columns):\n",
    "    if i == 0:\n",
    "        df_man_prev2A[f'{prev_col}_120'] = df_man_prev2A[install_column] + pd.Timedelta(days=contagem_dias[0])\n",
    "        df_man_prev2A[f'{prev_col}_180'] = df_man_prev2A[install_column] + pd.Timedelta(days=contagem_dias[1])\n",
    "    else:\n",
    "        prev_col_prev = prev_columns[i-1]\n",
    "        df_man_prev2A[f'{prev_col}_120'] = df_man_prev2A[f'{prev_col_prev}_120'] + pd.Timedelta(days=contagem_dias[0])\n",
    "        df_man_prev2A[f'{prev_col}_180'] = df_man_prev2A[f'{prev_col_prev}_180'] + pd.Timedelta(days=contagem_dias[1])\n",
    "print(df_man_prev2A.shape)\n",
    "df_man_prev2A.head(2)"
   ]
  },
  {
   "cell_type": "markdown",
   "id": "87062048",
   "metadata": {
    "tags": []
   },
   "source": [
    "## Previsão para manutenção 3A (base Manutencao executada 2A)"
   ]
  },
  {
   "cell_type": "code",
   "execution_count": 23,
   "id": "38b900d1",
   "metadata": {},
   "outputs": [],
   "source": [
    "previsao_manut_3A = df_man_ex2A[['IDSIGFI','UC','NOMECLIENTE','ROTA','NUMOS','STATUS','LATLONCON','MUNICIPIO', 'ENDERECO','DTCONCLUSAO']]\n",
    "df_man_prev3A = previsao_manut_3A.rename(columns={'LATLONCON': 'LATITUDE/LONGITUDE','DTCONCLUSAO': 'EXECUTADO_MANUT_2A'})"
   ]
  },
  {
   "cell_type": "code",
   "execution_count": 24,
   "id": "a4e4f533",
   "metadata": {},
   "outputs": [
    {
     "name": "stdout",
     "output_type": "stream",
     "text": [
      "(1382, 12)\n"
     ]
    },
    {
     "data": {
      "text/html": [
       "<div>\n",
       "<style scoped>\n",
       "    .dataframe tbody tr th:only-of-type {\n",
       "        vertical-align: middle;\n",
       "    }\n",
       "\n",
       "    .dataframe tbody tr th {\n",
       "        vertical-align: top;\n",
       "    }\n",
       "\n",
       "    .dataframe thead th {\n",
       "        text-align: right;\n",
       "    }\n",
       "</style>\n",
       "<table border=\"1\" class=\"dataframe\">\n",
       "  <thead>\n",
       "    <tr style=\"text-align: right;\">\n",
       "      <th></th>\n",
       "      <th>IDSIGFI</th>\n",
       "      <th>UC</th>\n",
       "      <th>NOMECLIENTE</th>\n",
       "      <th>ROTA</th>\n",
       "      <th>NUMOS</th>\n",
       "      <th>STATUS</th>\n",
       "      <th>LATITUDE/LONGITUDE</th>\n",
       "      <th>MUNICIPIO</th>\n",
       "      <th>ENDERECO</th>\n",
       "      <th>EXECUTADO_MANUT_2A</th>\n",
       "      <th>PREV03A_120</th>\n",
       "      <th>PREV03A_180</th>\n",
       "    </tr>\n",
       "  </thead>\n",
       "  <tbody>\n",
       "    <tr>\n",
       "      <th>765</th>\n",
       "      <td>14578</td>\n",
       "      <td>NaN</td>\n",
       "      <td>*PROJETO PILOTO* JHON CARLOS PAIVA DE LIMA</td>\n",
       "      <td>11.0</td>\n",
       "      <td>202400017648</td>\n",
       "      <td>VALIDADO</td>\n",
       "      <td>-9.43343081,-68.91752717</td>\n",
       "      <td>SENA MADUREIRA</td>\n",
       "      <td>SERINGAL HORIENTE S/N \"COLOCACAO SAO JOSE SUBI...</td>\n",
       "      <td>2024-03-17 14:50:00</td>\n",
       "      <td>2024-07-15 14:50:00</td>\n",
       "      <td>2024-09-13 14:50:00</td>\n",
       "    </tr>\n",
       "    <tr>\n",
       "      <th>3071</th>\n",
       "      <td>15765</td>\n",
       "      <td>688892.0</td>\n",
       "      <td>JOSE ADAILDO TORRES DA SILVA</td>\n",
       "      <td>13.0</td>\n",
       "      <td>202300035245</td>\n",
       "      <td>VALIDADO</td>\n",
       "      <td>-7.926648333333333,-71.59470333333334</td>\n",
       "      <td>TARAUACA</td>\n",
       "      <td>BR.364. RIO TAUARI . SERINGAL LAVRA    BR.364....</td>\n",
       "      <td>2023-11-18 08:39:00</td>\n",
       "      <td>2024-03-17 08:39:00</td>\n",
       "      <td>2024-05-16 08:39:00</td>\n",
       "    </tr>\n",
       "  </tbody>\n",
       "</table>\n",
       "</div>"
      ],
      "text/plain": [
       "      IDSIGFI        UC                                 NOMECLIENTE  ROTA  \\\n",
       "765     14578       NaN  *PROJETO PILOTO* JHON CARLOS PAIVA DE LIMA  11.0   \n",
       "3071    15765  688892.0                JOSE ADAILDO TORRES DA SILVA  13.0   \n",
       "\n",
       "             NUMOS        STATUS                     LATITUDE/LONGITUDE  \\\n",
       "765   202400017648  VALIDADO                   -9.43343081,-68.91752717   \n",
       "3071  202300035245  VALIDADO      -7.926648333333333,-71.59470333333334   \n",
       "\n",
       "           MUNICIPIO                                           ENDERECO  \\\n",
       "765   SENA MADUREIRA  SERINGAL HORIENTE S/N \"COLOCACAO SAO JOSE SUBI...   \n",
       "3071        TARAUACA  BR.364. RIO TAUARI . SERINGAL LAVRA    BR.364....   \n",
       "\n",
       "      EXECUTADO_MANUT_2A         PREV03A_120         PREV03A_180  \n",
       "765  2024-03-17 14:50:00 2024-07-15 14:50:00 2024-09-13 14:50:00  \n",
       "3071 2023-11-18 08:39:00 2024-03-17 08:39:00 2024-05-16 08:39:00  "
      ]
     },
     "execution_count": 24,
     "metadata": {},
     "output_type": "execute_result"
    }
   ],
   "source": [
    "#Cálculo de previsão de 120 e 180 manutenção preventivo 03A\n",
    "contagem_dias = [120, 180]\n",
    "prev_columns = ['PREV03A']\n",
    "install_column = 'EXECUTADO_MANUT_2A'\n",
    "\n",
    "for i, prev_col in enumerate(prev_columns):\n",
    "    if i == 0:\n",
    "        df_man_prev3A[f'{prev_col}_120'] = df_man_prev3A[install_column] + pd.Timedelta(days=contagem_dias[0])\n",
    "        df_man_prev3A[f'{prev_col}_180'] = df_man_prev3A[install_column] + pd.Timedelta(days=contagem_dias[1])\n",
    "    else:\n",
    "        prev_col_prev = prev_columns[i-1]\n",
    "        df_man_prev3A[f'{prev_col}_120'] = df_man_prev3A[f'{prev_col_prev}_120'] + pd.Timedelta(days=contagem_dias[0])\n",
    "        df_man_prev3A[f'{prev_col}_180'] = df_man_prev3A[f'{prev_col_prev}_180'] + pd.Timedelta(days=contagem_dias[1])\n",
    "print(df_man_prev3A.shape)\n",
    "df_man_prev3A.head(2)"
   ]
  },
  {
   "cell_type": "markdown",
   "id": "ea5d5e91-a756-41b3-afc6-f273bf89d062",
   "metadata": {},
   "source": [
    "## Previsão para manutenção 4A (base Manutencao executada 3A)"
   ]
  },
  {
   "cell_type": "code",
   "execution_count": 25,
   "id": "273415fd-1b82-4664-9a22-496ca80e65e8",
   "metadata": {},
   "outputs": [],
   "source": [
    "previsao_manut_4A = df_man_ex3A[['IDSIGFI','UC','NOMECLIENTE','ROTA','NUMOS','STATUS','LATLONCON','MUNICIPIO', 'ENDERECO','DTCONCLUSAO']]\n",
    "df_man_prev4A = previsao_manut_4A.rename(columns={'LATLONCON': 'LATITUDE/LONGITUDE','DTCONCLUSAO': 'EXECUTADO_MANUT_3A'})"
   ]
  },
  {
   "cell_type": "code",
   "execution_count": 26,
   "id": "12c2fe4a-cde6-476a-9829-5bcab33227a6",
   "metadata": {},
   "outputs": [
    {
     "name": "stdout",
     "output_type": "stream",
     "text": [
      "(1378, 12)\n"
     ]
    },
    {
     "data": {
      "text/html": [
       "<div>\n",
       "<style scoped>\n",
       "    .dataframe tbody tr th:only-of-type {\n",
       "        vertical-align: middle;\n",
       "    }\n",
       "\n",
       "    .dataframe tbody tr th {\n",
       "        vertical-align: top;\n",
       "    }\n",
       "\n",
       "    .dataframe thead th {\n",
       "        text-align: right;\n",
       "    }\n",
       "</style>\n",
       "<table border=\"1\" class=\"dataframe\">\n",
       "  <thead>\n",
       "    <tr style=\"text-align: right;\">\n",
       "      <th></th>\n",
       "      <th>IDSIGFI</th>\n",
       "      <th>UC</th>\n",
       "      <th>NOMECLIENTE</th>\n",
       "      <th>ROTA</th>\n",
       "      <th>NUMOS</th>\n",
       "      <th>STATUS</th>\n",
       "      <th>LATITUDE/LONGITUDE</th>\n",
       "      <th>MUNICIPIO</th>\n",
       "      <th>ENDERECO</th>\n",
       "      <th>EXECUTADO_MANUT_3A</th>\n",
       "      <th>PREV04A_120</th>\n",
       "      <th>PREV04A_180</th>\n",
       "    </tr>\n",
       "  </thead>\n",
       "  <tbody>\n",
       "    <tr>\n",
       "      <th>538</th>\n",
       "      <td>15797</td>\n",
       "      <td>688899.0</td>\n",
       "      <td>JOSEVAN QUINELATO DA SILVA</td>\n",
       "      <td>13.0</td>\n",
       "      <td>202400020238</td>\n",
       "      <td>VALIDADO</td>\n",
       "      <td>-7.9325331,-71.62251969</td>\n",
       "      <td>TARAUACA</td>\n",
       "      <td>BR 364. RIO TAUARI.  COLÔNIA BOA VISTA    BR 3...</td>\n",
       "      <td>2024-04-25 09:51:00</td>\n",
       "      <td>2024-08-23 09:51:00</td>\n",
       "      <td>2024-10-22 09:51:00</td>\n",
       "    </tr>\n",
       "    <tr>\n",
       "      <th>539</th>\n",
       "      <td>15785</td>\n",
       "      <td>688736.0</td>\n",
       "      <td>MARIA EDILENE DO SACRAMENTO LIMA</td>\n",
       "      <td>13.0</td>\n",
       "      <td>202400020220</td>\n",
       "      <td>VALIDADO</td>\n",
       "      <td>-7.93030342,-71.61574461</td>\n",
       "      <td>TARAUACA</td>\n",
       "      <td>BR 364. RIO TAUARI.  COLÔNIA SANTA CRUZ    BR ...</td>\n",
       "      <td>2024-04-26 09:03:00</td>\n",
       "      <td>2024-08-24 09:03:00</td>\n",
       "      <td>2024-10-23 09:03:00</td>\n",
       "    </tr>\n",
       "  </tbody>\n",
       "</table>\n",
       "</div>"
      ],
      "text/plain": [
       "     IDSIGFI        UC                       NOMECLIENTE  ROTA         NUMOS  \\\n",
       "538    15797  688899.0        JOSEVAN QUINELATO DA SILVA  13.0  202400020238   \n",
       "539    15785  688736.0  MARIA EDILENE DO SACRAMENTO LIMA  13.0  202400020220   \n",
       "\n",
       "           STATUS        LATITUDE/LONGITUDE MUNICIPIO  \\\n",
       "538  VALIDADO       -7.9325331,-71.62251969  TARAUACA   \n",
       "539  VALIDADO      -7.93030342,-71.61574461  TARAUACA   \n",
       "\n",
       "                                              ENDERECO  EXECUTADO_MANUT_3A  \\\n",
       "538  BR 364. RIO TAUARI.  COLÔNIA BOA VISTA    BR 3... 2024-04-25 09:51:00   \n",
       "539  BR 364. RIO TAUARI.  COLÔNIA SANTA CRUZ    BR ... 2024-04-26 09:03:00   \n",
       "\n",
       "            PREV04A_120         PREV04A_180  \n",
       "538 2024-08-23 09:51:00 2024-10-22 09:51:00  \n",
       "539 2024-08-24 09:03:00 2024-10-23 09:03:00  "
      ]
     },
     "execution_count": 26,
     "metadata": {},
     "output_type": "execute_result"
    }
   ],
   "source": [
    "#Cálculo de previsão de 120 e 180 manutenção preventivo 04A\n",
    "contagem_dias = [120, 180]\n",
    "prev_columns = ['PREV04A']\n",
    "install_column = 'EXECUTADO_MANUT_3A'\n",
    "\n",
    "for i, prev_col in enumerate(prev_columns):\n",
    "    if i == 0:\n",
    "        df_man_prev4A[f'{prev_col}_120'] = df_man_prev4A[install_column] + pd.Timedelta(days=contagem_dias[0])\n",
    "        df_man_prev4A[f'{prev_col}_180'] = df_man_prev4A[install_column] + pd.Timedelta(days=contagem_dias[1])\n",
    "    else:\n",
    "        prev_col_prev = prev_columns[i-1]\n",
    "        df_man_prev4A[f'{prev_col}_120'] = df_man_prev4A[f'{prev_col_prev}_120'] + pd.Timedelta(days=contagem_dias[0])\n",
    "        df_man_prev4A[f'{prev_col}_180'] = df_man_prev4A[f'{prev_col_prev}_180'] + pd.Timedelta(days=contagem_dias[1])\n",
    "print(df_man_prev4A.shape)\n",
    "df_man_prev4A.head(2)"
   ]
  },
  {
   "cell_type": "markdown",
   "id": "829c9879-952a-4d38-b32c-c08bd787b368",
   "metadata": {
    "tags": []
   },
   "source": [
    "## Previsão para manutenção 5A (base Manutencao executada 4A)"
   ]
  },
  {
   "cell_type": "code",
   "execution_count": 27,
   "id": "3df4d8f9-1311-4c1b-a6a0-80fca656374d",
   "metadata": {},
   "outputs": [],
   "source": [
    "previsao_manut_5A = df_man_ex4A[['IDSIGFI','UC','NOMECLIENTE','ROTA','NUMOS','STATUS','LATLONCON','MUNICIPIO', 'ENDERECO','DTCONCLUSAO']]\n",
    "df_man_prev5A = previsao_manut_4A.rename(columns={'LATLONCON': 'LATITUDE/LONGITUDE','DTCONCLUSAO': 'EXECUTADO_MANUT_4A'})"
   ]
  },
  {
   "cell_type": "code",
   "execution_count": 28,
   "id": "3de86b38-17d8-4209-8184-f59e0958de74",
   "metadata": {},
   "outputs": [
    {
     "name": "stdout",
     "output_type": "stream",
     "text": [
      "(1378, 12)\n"
     ]
    },
    {
     "data": {
      "text/html": [
       "<div>\n",
       "<style scoped>\n",
       "    .dataframe tbody tr th:only-of-type {\n",
       "        vertical-align: middle;\n",
       "    }\n",
       "\n",
       "    .dataframe tbody tr th {\n",
       "        vertical-align: top;\n",
       "    }\n",
       "\n",
       "    .dataframe thead th {\n",
       "        text-align: right;\n",
       "    }\n",
       "</style>\n",
       "<table border=\"1\" class=\"dataframe\">\n",
       "  <thead>\n",
       "    <tr style=\"text-align: right;\">\n",
       "      <th></th>\n",
       "      <th>IDSIGFI</th>\n",
       "      <th>UC</th>\n",
       "      <th>NOMECLIENTE</th>\n",
       "      <th>ROTA</th>\n",
       "      <th>NUMOS</th>\n",
       "      <th>STATUS</th>\n",
       "      <th>LATITUDE/LONGITUDE</th>\n",
       "      <th>MUNICIPIO</th>\n",
       "      <th>ENDERECO</th>\n",
       "      <th>EXECUTADO_MANUT_4A</th>\n",
       "      <th>PREV05A_120</th>\n",
       "      <th>PREV05A_180</th>\n",
       "    </tr>\n",
       "  </thead>\n",
       "  <tbody>\n",
       "    <tr>\n",
       "      <th>538</th>\n",
       "      <td>15797</td>\n",
       "      <td>688899.0</td>\n",
       "      <td>JOSEVAN QUINELATO DA SILVA</td>\n",
       "      <td>13.0</td>\n",
       "      <td>202400020238</td>\n",
       "      <td>VALIDADO</td>\n",
       "      <td>-7.9325331,-71.62251969</td>\n",
       "      <td>TARAUACA</td>\n",
       "      <td>BR 364. RIO TAUARI.  COLÔNIA BOA VISTA    BR 3...</td>\n",
       "      <td>2024-04-25 09:51:00</td>\n",
       "      <td>2024-08-23 09:51:00</td>\n",
       "      <td>2024-10-22 09:51:00</td>\n",
       "    </tr>\n",
       "    <tr>\n",
       "      <th>539</th>\n",
       "      <td>15785</td>\n",
       "      <td>688736.0</td>\n",
       "      <td>MARIA EDILENE DO SACRAMENTO LIMA</td>\n",
       "      <td>13.0</td>\n",
       "      <td>202400020220</td>\n",
       "      <td>VALIDADO</td>\n",
       "      <td>-7.93030342,-71.61574461</td>\n",
       "      <td>TARAUACA</td>\n",
       "      <td>BR 364. RIO TAUARI.  COLÔNIA SANTA CRUZ    BR ...</td>\n",
       "      <td>2024-04-26 09:03:00</td>\n",
       "      <td>2024-08-24 09:03:00</td>\n",
       "      <td>2024-10-23 09:03:00</td>\n",
       "    </tr>\n",
       "  </tbody>\n",
       "</table>\n",
       "</div>"
      ],
      "text/plain": [
       "     IDSIGFI        UC                       NOMECLIENTE  ROTA         NUMOS  \\\n",
       "538    15797  688899.0        JOSEVAN QUINELATO DA SILVA  13.0  202400020238   \n",
       "539    15785  688736.0  MARIA EDILENE DO SACRAMENTO LIMA  13.0  202400020220   \n",
       "\n",
       "           STATUS        LATITUDE/LONGITUDE MUNICIPIO  \\\n",
       "538  VALIDADO       -7.9325331,-71.62251969  TARAUACA   \n",
       "539  VALIDADO      -7.93030342,-71.61574461  TARAUACA   \n",
       "\n",
       "                                              ENDERECO  EXECUTADO_MANUT_4A  \\\n",
       "538  BR 364. RIO TAUARI.  COLÔNIA BOA VISTA    BR 3... 2024-04-25 09:51:00   \n",
       "539  BR 364. RIO TAUARI.  COLÔNIA SANTA CRUZ    BR ... 2024-04-26 09:03:00   \n",
       "\n",
       "            PREV05A_120         PREV05A_180  \n",
       "538 2024-08-23 09:51:00 2024-10-22 09:51:00  \n",
       "539 2024-08-24 09:03:00 2024-10-23 09:03:00  "
      ]
     },
     "execution_count": 28,
     "metadata": {},
     "output_type": "execute_result"
    }
   ],
   "source": [
    "#Cálculo de previsão de 120 e 180 manutenção preventivo 03A\n",
    "contagem_dias = [120, 180]\n",
    "prev_columns = ['PREV05A']\n",
    "install_column = 'EXECUTADO_MANUT_4A'\n",
    "\n",
    "for i, prev_col in enumerate(prev_columns):\n",
    "    if i == 0:\n",
    "        df_man_prev5A[f'{prev_col}_120'] = df_man_prev5A[install_column] + pd.Timedelta(days=contagem_dias[0])\n",
    "        df_man_prev5A[f'{prev_col}_180'] = df_man_prev5A[install_column] + pd.Timedelta(days=contagem_dias[1])\n",
    "    else:\n",
    "        prev_col_prev = prev_columns[i-1]\n",
    "        df_man_prev5A[f'{prev_col}_120'] = df_man_prev5A[f'{prev_col_prev}_120'] + pd.Timedelta(days=contagem_dias[0])\n",
    "        df_man_prev5A[f'{prev_col}_180'] = df_man_prev5A[f'{prev_col_prev}_180'] + pd.Timedelta(days=contagem_dias[1])\n",
    "print(df_man_prev5A.shape)\n",
    "df_man_prev5A.head(2)"
   ]
  },
  {
   "cell_type": "markdown",
   "id": "774e3ff8-486b-4ab0-b054-ca87f79964c7",
   "metadata": {},
   "source": [
    "## Salvando Arquivo"
   ]
  },
  {
   "cell_type": "code",
   "execution_count": 30,
   "id": "63b8b03c",
   "metadata": {},
   "outputs": [],
   "source": [
    "# Salvando a planilha PREVISÕES PREVENTIVO\n",
    "dataframe_excel = pd.ExcelWriter(r\"C:\\Users\\helym\\projetos_python\\jupyter\\OEM\\output\\PREVISOES_1ªtranche_Intelbras_PREVENTIVO_5A_150.xlsx\")\n",
    "df_man_prev5A.to_excel(dataframe_excel, sheet_name= 'PREVISAO4A',index=False)\n",
    "df_man_prev4A.to_excel(dataframe_excel, sheet_name= 'PREVISAO4A',index=False)\n",
    "#df_man_prev3A.to_excel(dataframe_excel, sheet_name= 'PREVISAO3A',index=False)\n",
    "#df_man_prev2A.to_excel(dataframe_excel, sheet_name= 'PREVISAO2A',index=False)\n",
    "#df_man_prev1A.to_excel(dataframe_excel, sheet_name= 'PREVISAO1A',index=False)\n",
    "#duplicidade.to_excel(dataframe_excel, sheet_name= 'DUPLICADOS',index=False)\n",
    "dataframe_excel.close()"
   ]
  }
 ],
 "metadata": {
  "kernelspec": {
   "display_name": "Python 3 (ipykernel)",
   "language": "python",
   "name": "python3"
  },
  "language_info": {
   "codemirror_mode": {
    "name": "ipython",
    "version": 3
   },
   "file_extension": ".py",
   "mimetype": "text/x-python",
   "name": "python",
   "nbconvert_exporter": "python",
   "pygments_lexer": "ipython3",
   "version": "3.11.5"
  }
 },
 "nbformat": 4,
 "nbformat_minor": 5
}
