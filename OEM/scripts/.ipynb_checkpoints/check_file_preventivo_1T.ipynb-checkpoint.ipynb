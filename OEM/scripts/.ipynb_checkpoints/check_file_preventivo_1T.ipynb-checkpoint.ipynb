{
 "cells": [
  {
   "cell_type": "markdown",
   "id": "61bee8f9-7a61-4265-a32f-e27123e2b0d4",
   "metadata": {},
   "source": [
    "# Importar Lib's"
   ]
  },
  {
   "cell_type": "code",
   "execution_count": 8,
   "id": "51dd63b1-aa80-4c39-b742-e44123822996",
   "metadata": {},
   "outputs": [],
   "source": [
    "import os\n",
    "import openpyxl\n",
    "import pandas as pd\n",
    "import ipywidgets as widgets\n",
    "import numpy as np\n",
    "from IPython.display import display\n",
    "from datetime import datetime\n",
    "from ipywidgets import interact"
   ]
  },
  {
   "cell_type": "markdown",
   "id": "feb52089-1105-4426-9454-2274dad94712",
   "metadata": {},
   "source": [
    "# Passo 1: Listar arquivos PDF em uma pasta específica"
   ]
  },
  {
   "cell_type": "markdown",
   "id": "85ef7ad4-06c8-4e67-9cb2-f85f924361ca",
   "metadata": {},
   "source": [
    "## Pasta contendo os arquivos PDF"
   ]
  },
  {
   "cell_type": "code",
   "execution_count": 9,
   "id": "6851479b-edba-4b5d-ac8a-27886dcf588d",
   "metadata": {},
   "outputs": [
    {
     "data": {
      "text/plain": [
       "NUMOS    1152\n",
       "dtype: int64"
      ]
     },
     "execution_count": 9,
     "metadata": {},
     "output_type": "execute_result"
    }
   ],
   "source": [
    "diretorio_lote = r'C:\\Users\\helym\\OneDrive - ONE ENGENHARIA INDUSTRIA E COMERCIO LTDA\\OeM\\OeM\\00-INTELBRAS\\000_Relatórios de Campo\\001 RELATORIOS ENVIADOS\\AC\\0_0-PREVENTIVA\\1ªTRACHE\\2024'\n",
    "arquivos_pdf = []\n",
    "for raiz, diretorios, arquivos in os.walk(diretorio_lote):\n",
    "    for arquivo in arquivos:\n",
    "        if arquivo.endswith('.pdf'):\n",
    "            arquivos_pdf.append(os.path.join(raiz, arquivo))\n",
    "\n",
    "duplicadas = pd.DataFrame(arquivos_pdf, columns=['NUMOS'])\n",
    "duplicadas['NUMOS'] = duplicadas['NUMOS'].apply(lambda x: x[-22:-10])\n",
    "lista_arquivos_pdf = duplicadas#lista_arquivos_pdf = duplicadas.astype(int)\n",
    "lista_arquivos_pdf_duplicada = lista_arquivos_pdf.duplicated().sum()\n",
    "duplicadas.count()"
   ]
  },
  {
   "cell_type": "markdown",
   "id": "455f1002-052e-4d51-b3c1-0b6698eb1eb3",
   "metadata": {},
   "source": [
    "# Lista de arquivos PDF na pasta"
   ]
  },
  {
   "cell_type": "code",
   "execution_count": 10,
   "id": "1ec07a2f-6848-403d-8886-d6aeb242d1f3",
   "metadata": {},
   "outputs": [
    {
     "name": "stdout",
     "output_type": "stream",
     "text": [
      "Series([], Name: NUMOS, dtype: object)\n"
     ]
    }
   ],
   "source": [
    "def encontrar_duplicados(duplicadas):\n",
    "    duplicados = duplicadas[duplicadas.duplicated(subset='NUMOS')]\n",
    "    return duplicados['NUMOS']\n",
    "\n",
    "# Exemplo de uso\n",
    "duplicados = encontrar_duplicados(duplicadas)\n",
    "print(duplicados)"
   ]
  },
  {
   "cell_type": "markdown",
   "id": "6683659b-4023-4033-a421-2d56537dc475",
   "metadata": {},
   "source": [
    "# Passo 2: Ler o arquivo Excel com a lista de arquivos"
   ]
  },
  {
   "cell_type": "code",
   "execution_count": null,
   "id": "57a82e46-ac4d-44f5-aa57-cd418825d110",
   "metadata": {},
   "outputs": [],
   "source": [
    "df_filtered_global_oem = None\n",
    "\n",
    "def ler_planilha():\n",
    "    \"\"\"Lê uma planilha do Excel.\"\"\"\n",
    "    excluir_status = ['TREINAMENTO','DUPLICADO','CANCELADO ']\n",
    "    df_bd = pd.read_excel(r\"C:\\Users\\helym\\projetos_python\\dashboard\\content\\base_sip_Concluido.xlsx\")\n",
    "    df = df_bd[~df_bd['STATUS'].isin(excluir_status)]\n",
    "    return df\n",
    "\n",
    "def aplicar_filtros(rota_value, status_value, tipo_value, executor_value, origem_value, tipocausa_value, data_inicial, data_final):\n",
    "    \"\"\"Aplica filtros a uma planilha.\"\"\"\n",
    "    global df_filtered_global_oem\n",
    "    df_filtered_global_oem = df[\n",
    "        df[\"ROTA\"].isin(rota_value) &\n",
    "        df[\"STATUS\"].isin(status_value) &\n",
    "        df[\"TIPO\"].isin(tipo_value) &\n",
    "        df[\"EXECUTOR\"].isin(executor_value) &\n",
    "        df[\"ORIGEM\"].isin(origem_value) &\n",
    "        df[\"TIPOCAUSA\"].isin(tipocausa_value) &\n",
    "        (df[\"DATACONCLUSAO\"] >= data_inicial) &\n",
    "        (df[\"DATACONCLUSAO\"] <= data_final)\n",
    "    ]\n",
    "    return df_filtered_global_oem\n",
    "\n",
    "if __name__ == \"__main__\":\n",
    "    df = ler_planilha()\n",
    "\n",
    "    df[\"DATACONCLUSAO\"] = pd.to_datetime(df[\"DATACONCLUSAO\"]).dt.date\n",
    "\n",
    "    rota_options = sorted(list(df['ROTA'].unique()))\n",
    "    rota_filter = widgets.SelectMultiple(options=rota_options, description=\"Rotas:\")\n",
    "\n",
    "    status_options = sorted(list(df['STATUS'].unique()))\n",
    "    status_filter = widgets.SelectMultiple(options=status_options, description=\"Status:\")\n",
    "\n",
    "    tipo_options = sorted(list(df['TIPO'].unique()))\n",
    "    tipo_filter = widgets.SelectMultiple(options=tipo_options, description=\"Tipo:\")\n",
    "\n",
    "    executor_options = sorted(list(df['EXECUTOR'].unique()))\n",
    "    executor_filter = widgets.SelectMultiple(options=executor_options, description=\"Usuário:\")\n",
    "\n",
    "    origem_options = sorted(list(df['ORIGEM'].unique()))\n",
    "    origem_filter = widgets.SelectMultiple(options=origem_options, description=\"Origem:\")\n",
    "\n",
    "    tipocausa_options = sorted(list(df['TIPOCAUSA'].unique()))\n",
    "    tipocausa_filter = widgets.SelectMultiple(options=tipocausa_options,descrition=\"Tipo Causa\")\n",
    "\n",
    "    data_inicial_filter = widgets.DatePicker(value=df[\"DATACONCLUSAO\"].min())\n",
    "    data_final_filter = widgets.DatePicker(value=df[\"DATACONCLUSAO\"].max())\n",
    "\n",
    "    aplicar_filter_button = widgets.Button(description=\"Aplicar filtros\")\n",
    "\n",
    "    def on_button_click(event):\n",
    "        global df_filtered_global_oem\n",
    "        df_filtrado = aplicar_filtros(\n",
    "            rota_filter.value, status_filter.value, tipo_filter.value,\n",
    "            executor_filter.value, origem_filter.value,\n",
    "            tipocausa_filter.value,\n",
    "            data_inicial_filter.value, data_final_filter.value\n",
    "        )\n",
    "        df_filtered_global_oem = df_filtrado\n",
    "\n",
    "    aplicar_filter_button.on_click(on_button_click)\n",
    "\n",
    "    display(data_inicial_filter)\n",
    "    display(data_final_filter)\n",
    "    df_filtered_global_oem\n",
    "    display(\n",
    "        widgets.HBox([origem_filter, tipo_filter, rota_filter, executor_filter, status_filter],\n",
    "                     layout=widgets.Layout(align_items='baseline'))\n",
    "    )\n",
    "    display(\n",
    "        widgets.HBox([tipocausa_filter, aplicar_filter_button],\n",
    "                     layout=widgets.Layout(align_items='center'))\n",
    "    )"
   ]
  },
  {
   "cell_type": "code",
   "execution_count": null,
   "id": "f1caaa41-1364-4403-8e44-8d2c8d96d0ea",
   "metadata": {},
   "outputs": [],
   "source": [
    "caminho_arquivo_excel = df_filtered_global_oem"
   ]
  },
  {
   "cell_type": "code",
   "execution_count": null,
   "id": "4f57a06a-fde3-4ea7-86a6-3a9041b6e6bc",
   "metadata": {},
   "outputs": [],
   "source": [
    "df_filtro = caminho_arquivo_excel[['NUMOS', 'UC','IDSIGFI','NOMECLIENTE','ROTA','STATUS','EXECUTOR','DTCONCLUSAO']]"
   ]
  },
  {
   "cell_type": "markdown",
   "id": "a36a1ea8-b489-4b99-abda-1f9c431b2491",
   "metadata": {},
   "source": [
    "## DataFrame a partir do arquivo Excel"
   ]
  },
  {
   "cell_type": "code",
   "execution_count": null,
   "id": "9fde048e-bcc9-4e01-b31c-cfb0cfcf5d92",
   "metadata": {},
   "outputs": [],
   "source": [
    "df_excel =df_filtro[['NUMOS']]\n",
    "df_excel.count()"
   ]
  },
  {
   "cell_type": "markdown",
   "id": "e846b511-f07b-4fb7-8254-3c8d77dff0c1",
   "metadata": {},
   "source": [
    "# Passo 3: Criar um DataFrame com a lista de arquivos PDF"
   ]
  },
  {
   "cell_type": "code",
   "execution_count": null,
   "id": "ea8ccc1c-d2b2-4349-9585-9767618768f6",
   "metadata": {},
   "outputs": [],
   "source": [
    "df_pdf = lista_arquivos_pdf.astype('int64')"
   ]
  },
  {
   "cell_type": "markdown",
   "id": "9111108d-01d2-4eb6-acc2-b432289153b8",
   "metadata": {},
   "source": [
    "\n",
    "#  Passo 4: Comparar os DataFrames para identificar arquivos ausentes no PDF e arquivos não listados no Excel"
   ]
  },
  {
   "cell_type": "code",
   "execution_count": null,
   "id": "95384918-3ca7-4a16-89e0-58e85e609182",
   "metadata": {},
   "outputs": [],
   "source": [
    "arquivos_ausentes_no_pdf = df_excel[~df_excel['NUMOS'].isin(df_pdf['NUMOS'])]\n",
    "arquivos_nao_listados_no_excel = df_pdf[~df_pdf['NUMOS'].isin(df_excel['NUMOS'])]"
   ]
  },
  {
   "cell_type": "markdown",
   "id": "8998f21d-c663-436a-936a-9bab198b1097",
   "metadata": {},
   "source": [
    "## Resultados"
   ]
  },
  {
   "cell_type": "code",
   "execution_count": null,
   "id": "3cf1cd6c-71ba-4acf-81f2-ce015eef14c1",
   "metadata": {
    "scrolled": true
   },
   "outputs": [],
   "source": [
    "nao_encontado_pdf = arquivos_ausentes_no_pdf.merge(df_filtro, left_on='NUMOS', right_on='NUMOS', how='left')\n",
    "\n",
    "display(nao_encontado_pdf)\n",
    "print(nao_encontado_pdf.shape)"
   ]
  },
  {
   "cell_type": "code",
   "execution_count": null,
   "id": "9f2fb96e-6469-49cb-9b5a-9dfaacd10265",
   "metadata": {},
   "outputs": [],
   "source": [
    "nao_encontado_lista = arquivos_nao_listados_no_excel.merge(df_filtro, left_on='NUMOS', right_on='NUMOS', how='left')\n",
    "\n",
    "display(nao_encontado_lista)\n",
    "print(nao_encontado_pdf.shape)"
   ]
  },
  {
   "cell_type": "code",
   "execution_count": null,
   "id": "5b7614eb-27c0-483b-bec5-3624028f3d91",
   "metadata": {},
   "outputs": [],
   "source": [
    "print(\"listar arquivo duplicados:\")\n",
    "display(lista_arquivos_pdf_duplicada)\n",
    "\n",
    "print(\"Arquivos ausentes na lista de PDF:\")\n",
    "display(arquivos_ausentes_no_pdf.shape)\n",
    "\n",
    "print(\"\\nArquivos não listados no Excel:\")\n",
    "display(arquivos_nao_listados_no_excel.shape)"
   ]
  },
  {
   "cell_type": "code",
   "execution_count": null,
   "id": "327717a1-e44b-4127-933a-b500f23c6f98",
   "metadata": {},
   "outputs": [],
   "source": [
    "# Salvando a planilha( .xlsx)\n",
    "# dataframe_excel = pd.ExcelWriter(r\"C:\\Users\\helym\\projetos_python\\jupyter\\INS\\output\\1ªtranche_preventiva_pdf_ausente.xlsx\")\n",
    "# nao_encontado_pdf.to_excel(dataframe_excel, index=False)\n",
    "# dataframe_excel.close()"
   ]
  }
 ],
 "metadata": {
  "kernelspec": {
   "display_name": "Python 3 (ipykernel)",
   "language": "python",
   "name": "python3"
  },
  "language_info": {
   "codemirror_mode": {
    "name": "ipython",
    "version": 3
   },
   "file_extension": ".py",
   "mimetype": "text/x-python",
   "name": "python",
   "nbconvert_exporter": "python",
   "pygments_lexer": "ipython3",
   "version": "3.11.5"
  }
 },
 "nbformat": 4,
 "nbformat_minor": 5
}
