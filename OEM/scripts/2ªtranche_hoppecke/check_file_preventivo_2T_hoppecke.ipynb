{
 "cells": [
  {
   "cell_type": "markdown",
   "id": "61bee8f9-7a61-4265-a32f-e27123e2b0d4",
   "metadata": {},
   "source": [
    "# Importar Lib's"
   ]
  },
  {
   "cell_type": "code",
   "execution_count": 1,
   "id": "51dd63b1-aa80-4c39-b742-e44123822996",
   "metadata": {},
   "outputs": [],
   "source": [
    "import os\n",
    "import openpyxl\n",
    "import pandas as pd\n",
    "import ipywidgets as widgets\n",
    "import numpy as np\n",
    "from IPython.display import display\n",
    "from datetime import datetime\n",
    "from ipywidgets import interact"
   ]
  },
  {
   "cell_type": "markdown",
   "id": "feb52089-1105-4426-9454-2274dad94712",
   "metadata": {},
   "source": [
    "# Passo 1: Listar arquivos PDF em uma pasta específica"
   ]
  },
  {
   "cell_type": "markdown",
   "id": "85ef7ad4-06c8-4e67-9cb2-f85f924361ca",
   "metadata": {},
   "source": [
    "## Pasta contendo os arquivos PDF"
   ]
  },
  {
   "cell_type": "code",
   "execution_count": 2,
   "id": "6851479b-edba-4b5d-ac8a-27886dcf588d",
   "metadata": {},
   "outputs": [
    {
     "data": {
      "text/plain": [
       "NUMOS    64\n",
       "dtype: int64"
      ]
     },
     "execution_count": 2,
     "metadata": {},
     "output_type": "execute_result"
    }
   ],
   "source": [
    "diretorio_lote = r'C:\\Users\\helym\\OneDrive - ONE ENGENHARIA INDUSTRIA E COMERCIO LTDA\\OeM\\OeM\\01-HOPPECKE\\000_Relatórios de Campo\\001_RELATÓRIOS_ENVIADOS\\002_PREVENTIVAS\\LOTE\\COM_NºOBRA'\n",
    "arquivos_pdf = []\n",
    "for raiz, diretorios, arquivos in os.walk(diretorio_lote):\n",
    "    for arquivo in arquivos:\n",
    "        if arquivo.endswith('.csv'):\n",
    "            arquivos_pdf.append(os.path.join(raiz, arquivo))\n",
    "\n",
    "duplicadas = pd.DataFrame(arquivos_pdf, columns=['NUMOS'])\n",
    "duplicadas['NUMOS'] = duplicadas['NUMOS'].apply(lambda x: x[-22:-10])\n",
    "lista_arquivos_pdf = duplicadas#lista_arquivos_pdf = duplicadas.astype(int)\n",
    "lista_arquivos_pdf_duplicada = lista_arquivos_pdf.duplicated().sum()\n",
    "duplicadas.count()"
   ]
  },
  {
   "cell_type": "markdown",
   "id": "455f1002-052e-4d51-b3c1-0b6698eb1eb3",
   "metadata": {},
   "source": [
    "# Lista de arquivos PDF na pasta"
   ]
  },
  {
   "cell_type": "code",
   "execution_count": 3,
   "id": "1ec07a2f-6848-403d-8886-d6aeb242d1f3",
   "metadata": {},
   "outputs": [
    {
     "name": "stdout",
     "output_type": "stream",
     "text": [
      "Series([], Name: NUMOS, dtype: object)\n"
     ]
    }
   ],
   "source": [
    "def encontrar_duplicados(duplicadas):\n",
    "    duplicados = duplicadas[duplicadas.duplicated(subset='NUMOS')]\n",
    "    return duplicados['NUMOS']\n",
    "\n",
    "# Exemplo de uso\n",
    "duplicados = encontrar_duplicados(duplicadas)\n",
    "print(duplicados)"
   ]
  },
  {
   "cell_type": "markdown",
   "id": "6683659b-4023-4033-a421-2d56537dc475",
   "metadata": {},
   "source": [
    "# Passo 2: Ler o arquivo Excel com a lista de arquivos"
   ]
  },
  {
   "cell_type": "code",
   "execution_count": 4,
   "id": "57a82e46-ac4d-44f5-aa57-cd418825d110",
   "metadata": {},
   "outputs": [
    {
     "data": {
      "application/vnd.jupyter.widget-view+json": {
       "model_id": "c246386baf2a4031abae7b92925fc312",
       "version_major": 2,
       "version_minor": 0
      },
      "text/plain": [
       "DatePicker(value=datetime.date(2022, 1, 1), step=1)"
      ]
     },
     "metadata": {},
     "output_type": "display_data"
    },
    {
     "data": {
      "application/vnd.jupyter.widget-view+json": {
       "model_id": "a09a2fdf5fbc4edc87007bfb2b7b65d9",
       "version_major": 2,
       "version_minor": 0
      },
      "text/plain": [
       "DatePicker(value=datetime.date(2024, 5, 9), step=1)"
      ]
     },
     "metadata": {},
     "output_type": "display_data"
    },
    {
     "data": {
      "application/vnd.jupyter.widget-view+json": {
       "model_id": "3a881a9d40d24928b9ecd24462fdfdda",
       "version_major": 2,
       "version_minor": 0
      },
      "text/plain": [
       "HBox(children=(SelectMultiple(description='Origem:', options=('ENERGISA', 'FORNECEDOR', 'ONE ENGENHARIA'), val…"
      ]
     },
     "metadata": {},
     "output_type": "display_data"
    },
    {
     "data": {
      "application/vnd.jupyter.widget-view+json": {
       "model_id": "71c9162f1607419188070c19e3fa0bd2",
       "version_major": 2,
       "version_minor": 0
      },
      "text/plain": [
       "HBox(children=(SelectMultiple(options=('CABOS ROMPIDOS', 'EQUIPAMENTOS DANIFICADOS', 'FALHA DE BATERIAS', 'INT…"
      ]
     },
     "metadata": {},
     "output_type": "display_data"
    }
   ],
   "source": [
    "df_filtered_global_oem = None\n",
    "\n",
    "def ler_planilha():\n",
    "    \"\"\"Lê uma planilha do Excel.\"\"\"\n",
    "    excluir_status = ['TREINAMENTO','DUPLICADO','CANCELADO ']\n",
    "    df_bd = pd.read_excel(r\"C:\\Users\\helym\\projetos_python\\dashboard\\content\\base_sip_Concluido.xlsx\")\n",
    "    df = df_bd[~df_bd['STATUS'].isin(excluir_status)]\n",
    "    return df\n",
    "\n",
    "def aplicar_filtros(rota_value, status_value, tipo_value, executor_value, origem_value, tipocausa_value, data_inicial, data_final):\n",
    "    \"\"\"Aplica filtros a uma planilha.\"\"\"\n",
    "    global df_filtered_global_oem\n",
    "    df_filtered_global_oem = df[\n",
    "        df[\"ROTA\"].isin(rota_value) &\n",
    "        df[\"STATUS\"].isin(status_value) &\n",
    "        df[\"TIPO\"].isin(tipo_value) &\n",
    "        df[\"EXECUTOR\"].isin(executor_value) &\n",
    "        df[\"ORIGEM\"].isin(origem_value) &\n",
    "        df[\"TIPOCAUSA\"].isin(tipocausa_value) &\n",
    "        (df[\"DATACONCLUSAO\"] >= data_inicial) &\n",
    "        (df[\"DATACONCLUSAO\"] <= data_final)\n",
    "    ]\n",
    "    return df_filtered_global_oem\n",
    "\n",
    "if __name__ == \"__main__\":\n",
    "    df = ler_planilha()\n",
    "\n",
    "    df[\"DATACONCLUSAO\"] = pd.to_datetime(df[\"DATACONCLUSAO\"]).dt.date\n",
    "\n",
    "    rota_options = sorted(list(df['ROTA'].unique()))\n",
    "    rota_filter = widgets.SelectMultiple(options=rota_options, description=\"Rotas:\")\n",
    "\n",
    "    status_options = sorted(list(df['STATUS'].unique()))\n",
    "    status_filter = widgets.SelectMultiple(options=status_options, description=\"Status:\")\n",
    "\n",
    "    tipo_options = sorted(list(df['TIPO'].unique()))\n",
    "    tipo_filter = widgets.SelectMultiple(options=tipo_options, description=\"Tipo:\")\n",
    "\n",
    "    executor_options = sorted(list(df['EXECUTOR'].unique()))\n",
    "    executor_filter = widgets.SelectMultiple(options=executor_options, description=\"Usuário:\")\n",
    "\n",
    "    origem_options = sorted(list(df['ORIGEM'].unique()))\n",
    "    origem_filter = widgets.SelectMultiple(options=origem_options, description=\"Origem:\")\n",
    "\n",
    "    tipocausa_options = sorted(list(df['TIPOCAUSA'].unique()))\n",
    "    tipocausa_filter = widgets.SelectMultiple(options=tipocausa_options,descrition=\"Tipo Causa\")\n",
    "\n",
    "    data_inicial_filter = widgets.DatePicker(value=df[\"DATACONCLUSAO\"].min())\n",
    "    data_final_filter = widgets.DatePicker(value=df[\"DATACONCLUSAO\"].max())\n",
    "\n",
    "    aplicar_filter_button = widgets.Button(description=\"Aplicar filtros\")\n",
    "\n",
    "    def on_button_click(event):\n",
    "        global df_filtered_global_oem\n",
    "        df_filtrado = aplicar_filtros(\n",
    "            rota_filter.value, status_filter.value, tipo_filter.value,\n",
    "            executor_filter.value, origem_filter.value,\n",
    "            tipocausa_filter.value,\n",
    "            data_inicial_filter.value, data_final_filter.value\n",
    "        )\n",
    "        df_filtered_global_oem = df_filtrado\n",
    "\n",
    "    aplicar_filter_button.on_click(on_button_click)\n",
    "\n",
    "    display(data_inicial_filter)\n",
    "    display(data_final_filter)\n",
    "    df_filtered_global_oem\n",
    "    display(\n",
    "        widgets.HBox([origem_filter, tipo_filter, rota_filter, executor_filter, status_filter],\n",
    "                     layout=widgets.Layout(align_items='baseline'))\n",
    "    )\n",
    "    display(\n",
    "        widgets.HBox([tipocausa_filter, aplicar_filter_button],\n",
    "                     layout=widgets.Layout(align_items='center'))\n",
    "    )"
   ]
  },
  {
   "cell_type": "code",
   "execution_count": 5,
   "id": "f1caaa41-1364-4403-8e44-8d2c8d96d0ea",
   "metadata": {},
   "outputs": [],
   "source": [
    "caminho_arquivo_excel = df_filtered_global_oem"
   ]
  },
  {
   "cell_type": "code",
   "execution_count": 6,
   "id": "4f57a06a-fde3-4ea7-86a6-3a9041b6e6bc",
   "metadata": {},
   "outputs": [],
   "source": [
    "df_filtro = caminho_arquivo_excel[['NUMOS', 'UC','IDSIGFI','NOMECLIENTE','ROTA','STATUS','EXECUTOR','DTCONCLUSAO']]"
   ]
  },
  {
   "cell_type": "markdown",
   "id": "a36a1ea8-b489-4b99-abda-1f9c431b2491",
   "metadata": {},
   "source": [
    "## DataFrame a partir do arquivo Excel"
   ]
  },
  {
   "cell_type": "code",
   "execution_count": 7,
   "id": "9fde048e-bcc9-4e01-b31c-cfb0cfcf5d92",
   "metadata": {},
   "outputs": [
    {
     "data": {
      "text/plain": [
       "NUMOS    137\n",
       "dtype: int64"
      ]
     },
     "execution_count": 7,
     "metadata": {},
     "output_type": "execute_result"
    }
   ],
   "source": [
    "df_excel =df_filtro[['NUMOS']]\n",
    "df_excel.count()"
   ]
  },
  {
   "cell_type": "markdown",
   "id": "e846b511-f07b-4fb7-8254-3c8d77dff0c1",
   "metadata": {},
   "source": [
    "# Passo 3: Criar um DataFrame com a lista de arquivos PDF"
   ]
  },
  {
   "cell_type": "code",
   "execution_count": 8,
   "id": "ea8ccc1c-d2b2-4349-9585-9767618768f6",
   "metadata": {},
   "outputs": [],
   "source": [
    "df_pdf = lista_arquivos_pdf.astype('int64')"
   ]
  },
  {
   "cell_type": "markdown",
   "id": "9111108d-01d2-4eb6-acc2-b432289153b8",
   "metadata": {},
   "source": [
    "\n",
    "#  Passo 4: Comparar os DataFrames para identificar arquivos ausentes no PDF e arquivos não listados no Excel"
   ]
  },
  {
   "cell_type": "code",
   "execution_count": 9,
   "id": "95384918-3ca7-4a16-89e0-58e85e609182",
   "metadata": {},
   "outputs": [],
   "source": [
    "arquivos_ausentes_no_pdf = df_excel[~df_excel['NUMOS'].isin(df_pdf['NUMOS'])]\n",
    "arquivos_nao_listados_no_excel = df_pdf[~df_pdf['NUMOS'].isin(df_excel['NUMOS'])]"
   ]
  },
  {
   "cell_type": "markdown",
   "id": "8998f21d-c663-436a-936a-9bab198b1097",
   "metadata": {},
   "source": [
    "## Resultados"
   ]
  },
  {
   "cell_type": "code",
   "execution_count": 10,
   "id": "3cf1cd6c-71ba-4acf-81f2-ce015eef14c1",
   "metadata": {
    "scrolled": true
   },
   "outputs": [
    {
     "data": {
      "text/html": [
       "<div>\n",
       "<style scoped>\n",
       "    .dataframe tbody tr th:only-of-type {\n",
       "        vertical-align: middle;\n",
       "    }\n",
       "\n",
       "    .dataframe tbody tr th {\n",
       "        vertical-align: top;\n",
       "    }\n",
       "\n",
       "    .dataframe thead th {\n",
       "        text-align: right;\n",
       "    }\n",
       "</style>\n",
       "<table border=\"1\" class=\"dataframe\">\n",
       "  <thead>\n",
       "    <tr style=\"text-align: right;\">\n",
       "      <th></th>\n",
       "      <th>NUMOS</th>\n",
       "      <th>UC</th>\n",
       "      <th>IDSIGFI</th>\n",
       "      <th>NOMECLIENTE</th>\n",
       "      <th>ROTA</th>\n",
       "      <th>STATUS</th>\n",
       "      <th>EXECUTOR</th>\n",
       "      <th>DTCONCLUSAO</th>\n",
       "    </tr>\n",
       "  </thead>\n",
       "  <tbody>\n",
       "    <tr>\n",
       "      <th>0</th>\n",
       "      <td>202400029577</td>\n",
       "      <td>NaN</td>\n",
       "      <td>18149</td>\n",
       "      <td>RAIMUNDO PEREIRA DA SILVA</td>\n",
       "      <td>53.0</td>\n",
       "      <td>VALIDADO</td>\n",
       "      <td>ONEL007</td>\n",
       "      <td>2024-04-27 09:48:00</td>\n",
       "    </tr>\n",
       "    <tr>\n",
       "      <th>1</th>\n",
       "      <td>202400028207</td>\n",
       "      <td>NaN</td>\n",
       "      <td>19821</td>\n",
       "      <td>ALE ANUTE SILVA</td>\n",
       "      <td>53.0</td>\n",
       "      <td>VALIDADO</td>\n",
       "      <td>ONEL007</td>\n",
       "      <td>2024-05-05 14:10:00</td>\n",
       "    </tr>\n",
       "    <tr>\n",
       "      <th>2</th>\n",
       "      <td>202400028199</td>\n",
       "      <td>NaN</td>\n",
       "      <td>19827</td>\n",
       "      <td>DIENIFA SOUZA DO NASCIMENTO</td>\n",
       "      <td>53.0</td>\n",
       "      <td>VALIDADO</td>\n",
       "      <td>ONEL007</td>\n",
       "      <td>2024-05-03 15:27:00</td>\n",
       "    </tr>\n",
       "    <tr>\n",
       "      <th>3</th>\n",
       "      <td>202400028181</td>\n",
       "      <td>NaN</td>\n",
       "      <td>19825</td>\n",
       "      <td>KARINE DE SOUZA NASCIMENTO</td>\n",
       "      <td>53.0</td>\n",
       "      <td>VALIDADO</td>\n",
       "      <td>ONEL007</td>\n",
       "      <td>2024-05-03 14:18:00</td>\n",
       "    </tr>\n",
       "    <tr>\n",
       "      <th>4</th>\n",
       "      <td>202400028173</td>\n",
       "      <td>NaN</td>\n",
       "      <td>18216</td>\n",
       "      <td>IGREJA ASSEMBLÉIA DE DEUS SAMAR</td>\n",
       "      <td>53.0</td>\n",
       "      <td>VALIDADO</td>\n",
       "      <td>ONEL007</td>\n",
       "      <td>2024-05-03 11:12:00</td>\n",
       "    </tr>\n",
       "    <tr>\n",
       "      <th>...</th>\n",
       "      <td>...</td>\n",
       "      <td>...</td>\n",
       "      <td>...</td>\n",
       "      <td>...</td>\n",
       "      <td>...</td>\n",
       "      <td>...</td>\n",
       "      <td>...</td>\n",
       "      <td>...</td>\n",
       "    </tr>\n",
       "    <tr>\n",
       "      <th>68</th>\n",
       "      <td>202400017499</td>\n",
       "      <td>NaN</td>\n",
       "      <td>18813</td>\n",
       "      <td>ROSANGELA SOARES DE LIMA</td>\n",
       "      <td>54.0</td>\n",
       "      <td>VALIDADO</td>\n",
       "      <td>ONEOM003</td>\n",
       "      <td>2024-03-30 13:21:00</td>\n",
       "    </tr>\n",
       "    <tr>\n",
       "      <th>69</th>\n",
       "      <td>202400017481</td>\n",
       "      <td>NaN</td>\n",
       "      <td>18419</td>\n",
       "      <td>RAIMUNDO PAULINO FERREIRA</td>\n",
       "      <td>54.0</td>\n",
       "      <td>VALIDADO</td>\n",
       "      <td>ONEOM003</td>\n",
       "      <td>2024-03-31 04:12:00</td>\n",
       "    </tr>\n",
       "    <tr>\n",
       "      <th>70</th>\n",
       "      <td>202400017465</td>\n",
       "      <td>NaN</td>\n",
       "      <td>18891</td>\n",
       "      <td>FABRICIO PAIVA FURTADO</td>\n",
       "      <td>54.0</td>\n",
       "      <td>VALIDADO</td>\n",
       "      <td>ONEOM003</td>\n",
       "      <td>2024-03-27 11:06:00</td>\n",
       "    </tr>\n",
       "    <tr>\n",
       "      <th>71</th>\n",
       "      <td>202400017457</td>\n",
       "      <td>NaN</td>\n",
       "      <td>18446</td>\n",
       "      <td>ANTONIO LIMA MORAIS</td>\n",
       "      <td>54.0</td>\n",
       "      <td>VALIDADO</td>\n",
       "      <td>ONEOM003</td>\n",
       "      <td>2024-03-27 13:17:00</td>\n",
       "    </tr>\n",
       "    <tr>\n",
       "      <th>72</th>\n",
       "      <td>202400017432</td>\n",
       "      <td>NaN</td>\n",
       "      <td>18885</td>\n",
       "      <td>RAIMUNDO NONATO LIMA MORAIS</td>\n",
       "      <td>54.0</td>\n",
       "      <td>VALIDADO</td>\n",
       "      <td>ONEOM003</td>\n",
       "      <td>2024-03-27 10:02:00</td>\n",
       "    </tr>\n",
       "  </tbody>\n",
       "</table>\n",
       "<p>73 rows × 8 columns</p>\n",
       "</div>"
      ],
      "text/plain": [
       "           NUMOS  UC  IDSIGFI                      NOMECLIENTE  ROTA  \\\n",
       "0   202400029577 NaN    18149        RAIMUNDO PEREIRA DA SILVA  53.0   \n",
       "1   202400028207 NaN    19821                  ALE ANUTE SILVA  53.0   \n",
       "2   202400028199 NaN    19827      DIENIFA SOUZA DO NASCIMENTO  53.0   \n",
       "3   202400028181 NaN    19825       KARINE DE SOUZA NASCIMENTO  53.0   \n",
       "4   202400028173 NaN    18216  IGREJA ASSEMBLÉIA DE DEUS SAMAR  53.0   \n",
       "..           ...  ..      ...                              ...   ...   \n",
       "68  202400017499 NaN    18813         ROSANGELA SOARES DE LIMA  54.0   \n",
       "69  202400017481 NaN    18419        RAIMUNDO PAULINO FERREIRA  54.0   \n",
       "70  202400017465 NaN    18891           FABRICIO PAIVA FURTADO  54.0   \n",
       "71  202400017457 NaN    18446              ANTONIO LIMA MORAIS  54.0   \n",
       "72  202400017432 NaN    18885      RAIMUNDO NONATO LIMA MORAIS  54.0   \n",
       "\n",
       "          STATUS  EXECUTOR         DTCONCLUSAO  \n",
       "0   VALIDADO       ONEL007 2024-04-27 09:48:00  \n",
       "1   VALIDADO       ONEL007 2024-05-05 14:10:00  \n",
       "2   VALIDADO       ONEL007 2024-05-03 15:27:00  \n",
       "3   VALIDADO       ONEL007 2024-05-03 14:18:00  \n",
       "4   VALIDADO       ONEL007 2024-05-03 11:12:00  \n",
       "..           ...       ...                 ...  \n",
       "68  VALIDADO      ONEOM003 2024-03-30 13:21:00  \n",
       "69  VALIDADO      ONEOM003 2024-03-31 04:12:00  \n",
       "70  VALIDADO      ONEOM003 2024-03-27 11:06:00  \n",
       "71  VALIDADO      ONEOM003 2024-03-27 13:17:00  \n",
       "72  VALIDADO      ONEOM003 2024-03-27 10:02:00  \n",
       "\n",
       "[73 rows x 8 columns]"
      ]
     },
     "metadata": {},
     "output_type": "display_data"
    },
    {
     "name": "stdout",
     "output_type": "stream",
     "text": [
      "(73, 8)\n"
     ]
    }
   ],
   "source": [
    "nao_encontado_pdf = arquivos_ausentes_no_pdf.merge(df_filtro, left_on='NUMOS', right_on='NUMOS', how='left')\n",
    "\n",
    "display(nao_encontado_pdf)\n",
    "print(nao_encontado_pdf.shape)"
   ]
  },
  {
   "cell_type": "code",
   "execution_count": 11,
   "id": "9f2fb96e-6469-49cb-9b5a-9dfaacd10265",
   "metadata": {},
   "outputs": [
    {
     "data": {
      "text/html": [
       "<div>\n",
       "<style scoped>\n",
       "    .dataframe tbody tr th:only-of-type {\n",
       "        vertical-align: middle;\n",
       "    }\n",
       "\n",
       "    .dataframe tbody tr th {\n",
       "        vertical-align: top;\n",
       "    }\n",
       "\n",
       "    .dataframe thead th {\n",
       "        text-align: right;\n",
       "    }\n",
       "</style>\n",
       "<table border=\"1\" class=\"dataframe\">\n",
       "  <thead>\n",
       "    <tr style=\"text-align: right;\">\n",
       "      <th></th>\n",
       "      <th>NUMOS</th>\n",
       "      <th>UC</th>\n",
       "      <th>IDSIGFI</th>\n",
       "      <th>NOMECLIENTE</th>\n",
       "      <th>ROTA</th>\n",
       "      <th>STATUS</th>\n",
       "      <th>EXECUTOR</th>\n",
       "      <th>DTCONCLUSAO</th>\n",
       "    </tr>\n",
       "  </thead>\n",
       "  <tbody>\n",
       "  </tbody>\n",
       "</table>\n",
       "</div>"
      ],
      "text/plain": [
       "Empty DataFrame\n",
       "Columns: [NUMOS, UC, IDSIGFI, NOMECLIENTE, ROTA, STATUS, EXECUTOR, DTCONCLUSAO]\n",
       "Index: []"
      ]
     },
     "metadata": {},
     "output_type": "display_data"
    },
    {
     "name": "stdout",
     "output_type": "stream",
     "text": [
      "(73, 8)\n"
     ]
    }
   ],
   "source": [
    "nao_encontado_lista = arquivos_nao_listados_no_excel.merge(df_filtro, left_on='NUMOS', right_on='NUMOS', how='left')\n",
    "\n",
    "display(nao_encontado_lista)\n",
    "print(nao_encontado_pdf.shape)"
   ]
  },
  {
   "cell_type": "code",
   "execution_count": 12,
   "id": "5b7614eb-27c0-483b-bec5-3624028f3d91",
   "metadata": {},
   "outputs": [
    {
     "name": "stdout",
     "output_type": "stream",
     "text": [
      "listar arquivo duplicados:\n"
     ]
    },
    {
     "data": {
      "text/plain": [
       "0"
      ]
     },
     "metadata": {},
     "output_type": "display_data"
    },
    {
     "name": "stdout",
     "output_type": "stream",
     "text": [
      "Arquivos ausentes na lista de PDF:\n"
     ]
    },
    {
     "data": {
      "text/plain": [
       "(73, 1)"
      ]
     },
     "metadata": {},
     "output_type": "display_data"
    },
    {
     "name": "stdout",
     "output_type": "stream",
     "text": [
      "\n",
      "Arquivos não listados no Excel:\n"
     ]
    },
    {
     "data": {
      "text/plain": [
       "(0, 1)"
      ]
     },
     "metadata": {},
     "output_type": "display_data"
    }
   ],
   "source": [
    "print(\"listar arquivo duplicados:\")\n",
    "display(lista_arquivos_pdf_duplicada)\n",
    "\n",
    "print(\"Arquivos ausentes na lista de PDF:\")\n",
    "display(arquivos_ausentes_no_pdf.shape)\n",
    "\n",
    "print(\"\\nArquivos não listados no Excel:\")\n",
    "display(arquivos_nao_listados_no_excel.shape)"
   ]
  },
  {
   "cell_type": "code",
   "execution_count": 13,
   "id": "327717a1-e44b-4127-933a-b500f23c6f98",
   "metadata": {},
   "outputs": [],
   "source": [
    "# Salvando a planilha( .xlsx)\n",
    "dataframe_excel = pd.ExcelWriter(r\"C:\\Users\\helym\\projetos_python\\jupyter\\INS\\output\\2ªtranche_preventiva_csv_ausente_hoppecke.xlsx\")\n",
    "nao_encontado_pdf.to_excel(dataframe_excel, index=False)\n",
    "dataframe_excel.close()"
   ]
  }
 ],
 "metadata": {
  "kernelspec": {
   "display_name": "Python 3 (ipykernel)",
   "language": "python",
   "name": "python3"
  },
  "language_info": {
   "codemirror_mode": {
    "name": "ipython",
    "version": 3
   },
   "file_extension": ".py",
   "mimetype": "text/x-python",
   "name": "python",
   "nbconvert_exporter": "python",
   "pygments_lexer": "ipython3",
   "version": "3.11.5"
  }
 },
 "nbformat": 4,
 "nbformat_minor": 5
}
