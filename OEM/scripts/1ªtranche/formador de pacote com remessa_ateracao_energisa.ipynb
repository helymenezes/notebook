{
 "cells": [
  {
   "cell_type": "markdown",
   "id": "1fcec742",
   "metadata": {},
   "source": [
    " # Importar arquivos para leitura"
   ]
  },
  {
   "cell_type": "code",
   "execution_count": 1,
   "id": "db1a4e0e",
   "metadata": {},
   "outputs": [],
   "source": [
    "import pandas as pd\n",
    "import os"
   ]
  },
  {
   "cell_type": "code",
   "execution_count": 2,
   "id": "ffc97e98",
   "metadata": {},
   "outputs": [],
   "source": [
    "base_sip_oem = pd.read_excel(r\"E:\\OEM\\content\\base_sip_Concluido.xlsx\")\n",
    "#df_intelbras = pd.read_excel(r\"E:\\ACRÉSCIMOS PREVENTIVA JUNHO 3ª REMESSA.xlsx\")\n"
   ]
  },
  {
   "cell_type": "code",
   "execution_count": 3,
   "id": "3539ce34",
   "metadata": {},
   "outputs": [],
   "source": [
    "base_sip_oem = base_sip_oem[['IDSIGFI','NUMOS','NOMECLIENTE','CPF','CODIGOENERGISA','UC','TIPODESIGFI','OBRA','ROTA','EXECUTOR','LATLONCON','TIPOCAUSA','DTCONCLUSAO','ENDERECO','MUNICIPIO']]\n"
   ]
  },
  {
   "cell_type": "code",
   "execution_count": 4,
   "id": "72eaae58",
   "metadata": {},
   "outputs": [
    {
     "name": "stdout",
     "output_type": "stream",
     "text": [
      "(8577, 15)\n"
     ]
    }
   ],
   "source": [
    "print(base_sip_oem.shape)\n",
    "#print(df_intelbras.shape)"
   ]
  },
  {
   "cell_type": "markdown",
   "id": "74c0a561",
   "metadata": {},
   "source": [
    "# Realizar leitura de arquivos  .pdf  dentro das pastas correspondente"
   ]
  },
  {
   "cell_type": "code",
   "execution_count": 5,
   "id": "d7205cec-9a44-449a-840d-c501c975e14f",
   "metadata": {},
   "outputs": [],
   "source": [
    "diretorio_lote = r'C:\\Users\\helym\\OneDrive - ONE ENGENHARIA INDUSTRIA E COMERCIO LTDA\\OeM\\OeM\\00-INTELBRAS\\000_Relatórios de Campo\\001 RELATORIOS ENVIADOS\\AC\\0_0-PREVENTIVA\\1ªTRACHE\\VISITA TÉCNICA'\n",
    "#\"C:\\Users\\OneEngInst\\OneDrive - ONE ENGENHARIA INDUSTRIA E COMERCIO LTDA\\OeM\\OeM\\00-INTELBRAS\\000_Relatórios de Campo\\001 RELATORIOS ENVIADOS\\0.0-PREVENTIVA\\1ªTRACHE\\2024\\LOTE_16\\3ªREMESSA\""
   ]
  },
  {
   "cell_type": "code",
   "execution_count": 6,
   "id": "71985e5c-c9a6-45f8-bf9d-5cbe56531e6b",
   "metadata": {},
   "outputs": [],
   "source": [
    "# listando os arquivos dentro da pasta.\n",
    "arquivos_pdf = []\n",
    "for raiz, diretorios, arquivos in os.walk(diretorio_lote):\n",
    "    for arquivo in arquivos:\n",
    "        if arquivo.endswith('.pdf'):\n",
    "            arquivos_pdf.append(os.path.join(raiz, arquivo))\n",
    "\n",
    "lista_pdf = pd.DataFrame(arquivos_pdf, columns=['NUMOS'])\n",
    "lista_pdf['NUMOS'] = lista_pdf['NUMOS'].apply(lambda x: x[-22:-10]).astype('int64')\n",
    "contagem_arquivos = lista_pdf['NUMOS'].unique().shape[0]\n",
    "dataset = lista_pdf.merge(base_sip_oem, left_on='NUMOS', right_on='NUMOS', how='left')"
   ]
  },
  {
   "cell_type": "code",
   "execution_count": 7,
   "id": "50a7774a-8108-4fac-8633-85832a8d503d",
   "metadata": {},
   "outputs": [
    {
     "name": "stdout",
     "output_type": "stream",
     "text": [
      "<class 'pandas.core.frame.DataFrame'>\n",
      "RangeIndex: 9 entries, 0 to 8\n",
      "Data columns (total 1 columns):\n",
      " #   Column     Non-Null Count  Dtype \n",
      "---  ------     --------------  ----- \n",
      " 0   LATLONCON  9 non-null      object\n",
      "dtypes: object(1)\n",
      "memory usage: 204.0+ bytes\n"
     ]
    }
   ],
   "source": [
    "dataset[['LATLONCON']].info()"
   ]
  },
  {
   "cell_type": "code",
   "execution_count": 8,
   "id": "7d2293a5",
   "metadata": {},
   "outputs": [
    {
     "data": {
      "text/plain": [
       "0"
      ]
     },
     "execution_count": 8,
     "metadata": {},
     "output_type": "execute_result"
    }
   ],
   "source": [
    "# Rastrear duplicidade e soma-las.\n",
    "dataset['NUMOS'].duplicated().sum()"
   ]
  },
  {
   "cell_type": "code",
   "execution_count": 9,
   "id": "4d2b29eb",
   "metadata": {},
   "outputs": [
    {
     "data": {
      "text/plain": [
       "9"
      ]
     },
     "execution_count": 9,
     "metadata": {},
     "output_type": "execute_result"
    }
   ],
   "source": [
    "dataset['NUMOS'].count()"
   ]
  },
  {
   "cell_type": "code",
   "execution_count": 10,
   "id": "0a910503",
   "metadata": {},
   "outputs": [
    {
     "name": "stdout",
     "output_type": "stream",
     "text": [
      "Series([], Name: NUMOS, dtype: int64)\n"
     ]
    }
   ],
   "source": [
    "def encontrar_duplicados(dataset):\n",
    "    duplicados = dataset[dataset.duplicated(subset='NUMOS')]\n",
    "    return duplicados['NUMOS']\n",
    "\n",
    "# Exemplo de uso\n",
    "duplicados = encontrar_duplicados(dataset)\n",
    "print(duplicados)\n"
   ]
  },
  {
   "cell_type": "markdown",
   "id": "30c81cc7",
   "metadata": {},
   "source": [
    "# Realizar a mesclagem com número de OS entre os dados da base do sistema com a lista de arquivos encontrados na pasta"
   ]
  },
  {
   "cell_type": "code",
   "execution_count": 11,
   "id": "5b9afc34",
   "metadata": {},
   "outputs": [],
   "source": [
    "#dataset[['LATITUDE', 'LONGITUDE','ERRO_1','ERRO_2']] = dataset['LATLONCON'].apply(lambda x: pd.Series(x.split(',')))#,'ERRO_1','ERRO_2'\n",
    "def split_latlon(x):\n",
    "    if isinstance(x, str):\n",
    "        return pd.Series(x.split(','))\n",
    "    else:\n",
    "        #Se não for uma string, retorna NaN ou valores padrão, dependendo do que você deseja\n",
    "        return pd.Series([pd.NaT, pd.NaT])\n",
    "\n",
    "# Aplica a função split_latlon à coluna 'LATLONCON'\n",
    "dataset[['LATITUDE', 'LONGITUDE']] = dataset['LATLONCON'].apply(split_latlon)#,'erro_1','erro_2'\n",
    "\n",
    "# Converta as colunas 'LATITUDE' e 'LONGITUDE' para números, se necessário\n",
    "#dataset[['LATITUDE', 'LONGITUDE']] = dataset[['LATITUDE', 'LONGITUDE']].apply(pd.to_numeric, errors='coerce')\n",
    "\n",
    "dataset= dataset[['IDSIGFI','UC','OBRA','NOMECLIENTE','CPF','ENDERECO','MUNICIPIO','DTCONCLUSAO','TIPOCAUSA','ROTA','EXECUTOR','TIPODESIGFI','LATITUDE','LONGITUDE','NUMOS']]#,'NUMOS'\n",
    "lote = dataset.rename(columns={'IDSIGFI':'CÓDIGO ONE','NOMECLIENTE':'NOME DO CLIENTE','CODIGOENERGISA': 'CÓDIGO','UC': 'NÚM.DA UC',\n",
    "                               'OBRA':'NÚM.DA OBRA','EXECUTOR':'EQUIPE EXECUTORA',\n",
    "                              'TIPODESIGFI': 'TIPO/SIGFI','TIPOCAUSA':'PREVENTIVA','DTCONCLUSAO':'DATA ATENDIMENTO'})\n",
    "\n",
    "replacements1 = {'ONEOM001':'EQ.1','ONEOM002':'EQ.2','ONEOM003':'EQ.3','ONEOM004':'EQ.4','ONEOM005':'EQ.5','ONEOM006':'EQ.6','ONEOM007':'EQ.7',\n",
    "                 'ONEOM008':'EQ.8','ONEOM009':'EQ.9','ONEOM010':'EQ.10','ONEOM011':'EQ.11','ONEOM012':'EQ.12','ONEOM013':'EQ.13','ONEOM014':'EQ.14',\n",
    "                 'ONEOM015':'EQ.15'}\n",
    "lote['EQUIPE EXECUTORA'] = lote['EQUIPE EXECUTORA'].replace(replacements1)\n",
    "\n",
    "replacements2 = {'MANUT PREVENTIVA 1A':'1ªPREVENTIVA','MANUT PREVENTIVA 2A':'2ªPREVENTIVA','MANUT PREVENTIVA 3A':'3ªPREVENTIVA',\n",
    "                 'MANUT PREVENTIVA 4A':'4ªPREVENTIVA','MANUT PREVENTIVA 5A':'5ªPREVENTIVA'}\n",
    "lote['PREVENTIVA'] = lote['PREVENTIVA'].replace(replacements2)\n",
    "\n",
    "replacements3 = {'CRUZEIRO DO SUL':'CRUZEIRO DO SUL','FEIJO':'CRUZEIRO DO SUL','JORDAO':'CRUZEIRO DO SUL',\n",
    "                 'JURUA':'CRUZEIRO DO SUL','MARECHAL THAUMATURGO':'CRUZEIRO DO SUL','MANCIO LIMA':'CRUZEIRO DO SUL',\n",
    "                'PORTO WALTER':'CRUZEIRO DO SUL','RODRIGUES ALVES':'CRUZEIRO DO SUL','TARAUACA':'CRUZEIRO DO SUL',\n",
    "                'ASSIS BRASIL':'BRASILÉIA','SENA MADUREIRA':'RIO BRANCO','RIO AZUL':'CRUZEIRO DO SUL','xxxxxxxxx':'xxxxxxxxxx'}\n",
    "\n",
    "lote['REGIONAL'] = lote['MUNICIPIO'].replace(replacements3)\n",
    "\n",
    "lote = lote[['CÓDIGO ONE', 'NÚM.DA UC', 'NÚM.DA OBRA', 'NOME DO CLIENTE', 'CPF',\n",
    "       'ENDERECO', 'MUNICIPIO','REGIONAL', 'DATA ATENDIMENTO', 'PREVENTIVA', 'ROTA',\n",
    "       'EQUIPE EXECUTORA', 'TIPO/SIGFI', 'LATITUDE', 'LONGITUDE', 'NUMOS']]\n"
   ]
  },
  {
   "cell_type": "code",
   "execution_count": 12,
   "id": "b471d273-b772-4d13-9a30-a42b43ee8f15",
   "metadata": {
    "scrolled": true
   },
   "outputs": [
    {
     "data": {
      "text/html": [
       "<div>\n",
       "<style scoped>\n",
       "    .dataframe tbody tr th:only-of-type {\n",
       "        vertical-align: middle;\n",
       "    }\n",
       "\n",
       "    .dataframe tbody tr th {\n",
       "        vertical-align: top;\n",
       "    }\n",
       "\n",
       "    .dataframe thead th {\n",
       "        text-align: right;\n",
       "    }\n",
       "</style>\n",
       "<table border=\"1\" class=\"dataframe\">\n",
       "  <thead>\n",
       "    <tr style=\"text-align: right;\">\n",
       "      <th></th>\n",
       "      <th>CÓDIGO ONE</th>\n",
       "      <th>NÚM.DA UC</th>\n",
       "      <th>NÚM.DA OBRA</th>\n",
       "      <th>NOME DO CLIENTE</th>\n",
       "      <th>CPF</th>\n",
       "      <th>ENDERECO</th>\n",
       "      <th>MUNICIPIO</th>\n",
       "      <th>REGIONAL</th>\n",
       "      <th>DATA ATENDIMENTO</th>\n",
       "      <th>PREVENTIVA</th>\n",
       "      <th>ROTA</th>\n",
       "      <th>EQUIPE EXECUTORA</th>\n",
       "      <th>TIPO/SIGFI</th>\n",
       "      <th>LATITUDE</th>\n",
       "      <th>LONGITUDE</th>\n",
       "      <th>NUMOS</th>\n",
       "    </tr>\n",
       "  </thead>\n",
       "  <tbody>\n",
       "    <tr>\n",
       "      <th>0</th>\n",
       "      <td>13521</td>\n",
       "      <td>642482.0</td>\n",
       "      <td>212200503.0</td>\n",
       "      <td>RANIELE CASTRO DA SILVA</td>\n",
       "      <td>053.105.462-43</td>\n",
       "      <td>COMUNIDADE SANTA RITA S/N RIO LIBERDADE CENTRO...</td>\n",
       "      <td>CRUZEIRO DO SUL</td>\n",
       "      <td>CRUZEIRO DO SUL</td>\n",
       "      <td>2024-05-07 09:30:00</td>\n",
       "      <td>INTERMITENCIA</td>\n",
       "      <td>6.0</td>\n",
       "      <td>EQ.7</td>\n",
       "      <td>SIGFI80</td>\n",
       "      <td>-7.72470305</td>\n",
       "      <td>-71.99884247</td>\n",
       "      <td>202400030807</td>\n",
       "    </tr>\n",
       "    <tr>\n",
       "      <th>1</th>\n",
       "      <td>13492</td>\n",
       "      <td>651979.0</td>\n",
       "      <td>212200683.0</td>\n",
       "      <td>JOSE FRANCISCO REINALDO TEODORO</td>\n",
       "      <td>706.336.242-92</td>\n",
       "      <td>COMUNIDADE SANTA RITA S/N LAGO SAO JOAO CENTRO...</td>\n",
       "      <td>CRUZEIRO DO SUL</td>\n",
       "      <td>CRUZEIRO DO SUL</td>\n",
       "      <td>2024-05-07 15:06:00</td>\n",
       "      <td>MANUT PREVENTIVA  4A</td>\n",
       "      <td>6.0</td>\n",
       "      <td>EQ.7</td>\n",
       "      <td>SIGFI80</td>\n",
       "      <td>-7.68164934</td>\n",
       "      <td>-71.95136345</td>\n",
       "      <td>202400030799</td>\n",
       "    </tr>\n",
       "    <tr>\n",
       "      <th>2</th>\n",
       "      <td>13888</td>\n",
       "      <td>652183.0</td>\n",
       "      <td>212200996.0</td>\n",
       "      <td>CRISTIANA DA SILVA NASCIMENTO</td>\n",
       "      <td>994.096.902-34</td>\n",
       "      <td>COMUNIDADE PEDRA PINTADA S/N RIO JURUA CENTRO ...</td>\n",
       "      <td>MARECHAL THAUMATURGO</td>\n",
       "      <td>CRUZEIRO DO SUL</td>\n",
       "      <td>2024-05-06 14:33:00</td>\n",
       "      <td>INTERMITENCIA</td>\n",
       "      <td>3.0</td>\n",
       "      <td>EQ.14</td>\n",
       "      <td>SIGFI80</td>\n",
       "      <td>-9.37534</td>\n",
       "      <td>-72.71380500000001</td>\n",
       "      <td>202400030716</td>\n",
       "    </tr>\n",
       "    <tr>\n",
       "      <th>3</th>\n",
       "      <td>15091</td>\n",
       "      <td>654905.0</td>\n",
       "      <td>212201489.0</td>\n",
       "      <td>RONISON SOARES DE AZEVEDO</td>\n",
       "      <td>084.526.512-10</td>\n",
       "      <td>RIO JURUA COMUNIDADE ADÃO E EVA    RIO JURUA C...</td>\n",
       "      <td>MARECHAL THAUMATURGO</td>\n",
       "      <td>CRUZEIRO DO SUL</td>\n",
       "      <td>2024-05-11 10:23:00</td>\n",
       "      <td>MANUT PREVENTIVA  4A</td>\n",
       "      <td>3.0</td>\n",
       "      <td>EQ.3</td>\n",
       "      <td>SIGFI80</td>\n",
       "      <td>-9.177375000000001</td>\n",
       "      <td>-72.69680166666667</td>\n",
       "      <td>202400032142</td>\n",
       "    </tr>\n",
       "    <tr>\n",
       "      <th>4</th>\n",
       "      <td>14943</td>\n",
       "      <td>654934.0</td>\n",
       "      <td>212201530.0</td>\n",
       "      <td>MANELIZE OLIVEIRA  BANDEIRA</td>\n",
       "      <td>036.392.252-01</td>\n",
       "      <td>RIO JURUA  COMUNIDADE  LUCANIA    RIO JURUA  C...</td>\n",
       "      <td>CRUZEIRO DO SUL</td>\n",
       "      <td>CRUZEIRO DO SUL</td>\n",
       "      <td>2024-05-05 11:57:00</td>\n",
       "      <td>INTERMITENCIA</td>\n",
       "      <td>1.0</td>\n",
       "      <td>EQ.7</td>\n",
       "      <td>SIGFI80</td>\n",
       "      <td>-8.11959252</td>\n",
       "      <td>-72.78867842</td>\n",
       "      <td>202400030690</td>\n",
       "    </tr>\n",
       "    <tr>\n",
       "      <th>5</th>\n",
       "      <td>13477</td>\n",
       "      <td>658167.0</td>\n",
       "      <td>212201288.0</td>\n",
       "      <td>FRANCISCO FIRMINO</td>\n",
       "      <td>632.937.492-91</td>\n",
       "      <td>COMUNIDADE MUNDURUCUS S/N RIO JURUA CENTRO COM...</td>\n",
       "      <td>RODRIGUES ALVES</td>\n",
       "      <td>CRUZEIRO DO SUL</td>\n",
       "      <td>2024-05-06 10:30:00</td>\n",
       "      <td>INTERMITENCIA</td>\n",
       "      <td>1.0</td>\n",
       "      <td>EQ.7</td>\n",
       "      <td>SIGFI80</td>\n",
       "      <td>-7.87165408</td>\n",
       "      <td>-72.72349525</td>\n",
       "      <td>202400030682</td>\n",
       "    </tr>\n",
       "    <tr>\n",
       "      <th>6</th>\n",
       "      <td>15055</td>\n",
       "      <td>658244.0</td>\n",
       "      <td>212202047.0</td>\n",
       "      <td>ANTONIO EUDES SANTOS DA SILVA</td>\n",
       "      <td>994.390.002-44</td>\n",
       "      <td>RIO JURUA COMUNIDADE TAPAUNA    RIO JURUA COMU...</td>\n",
       "      <td>MARECHAL THAUMATURGO</td>\n",
       "      <td>CRUZEIRO DO SUL</td>\n",
       "      <td>2024-05-05 16:12:00</td>\n",
       "      <td>INTERMITENCIA</td>\n",
       "      <td>3.0</td>\n",
       "      <td>EQ.14</td>\n",
       "      <td>SIGFI80</td>\n",
       "      <td>-9.12992</td>\n",
       "      <td>-72.70863666666668</td>\n",
       "      <td>202400030708</td>\n",
       "    </tr>\n",
       "    <tr>\n",
       "      <th>7</th>\n",
       "      <td>15613</td>\n",
       "      <td>660907.0</td>\n",
       "      <td>112203279.0</td>\n",
       "      <td>FRANCINETE SIQUEIRA DE MOURA</td>\n",
       "      <td>615.393.252-53</td>\n",
       "      <td>SERINGAL GRANJA    SERINGAL GRANJA</td>\n",
       "      <td>SENA MADUREIRA</td>\n",
       "      <td>RIO BRANCO</td>\n",
       "      <td>2024-05-08 14:50:00</td>\n",
       "      <td>INTERMITENCIA</td>\n",
       "      <td>11.0</td>\n",
       "      <td>EQ.6</td>\n",
       "      <td>SIGFI45</td>\n",
       "      <td>-9.15476644</td>\n",
       "      <td>-69.10088214</td>\n",
       "      <td>202400030849</td>\n",
       "    </tr>\n",
       "    <tr>\n",
       "      <th>8</th>\n",
       "      <td>15799</td>\n",
       "      <td>688884.0</td>\n",
       "      <td>NaN</td>\n",
       "      <td>FRANCISCO DAS CHAGAS DE AMORIM SILVA</td>\n",
       "      <td>006.641.342-70</td>\n",
       "      <td>BR 364. RIO TAUARI. COLÔNIA BELA VISTA    BR 3...</td>\n",
       "      <td>TARAUACA</td>\n",
       "      <td>CRUZEIRO DO SUL</td>\n",
       "      <td>2024-04-25 10:59:00</td>\n",
       "      <td>MANUT PREVENTIVA  3A</td>\n",
       "      <td>13.0</td>\n",
       "      <td>EQ.7</td>\n",
       "      <td>SIGFI45</td>\n",
       "      <td>-7.93257324</td>\n",
       "      <td>-71.62246386</td>\n",
       "      <td>202400020154</td>\n",
       "    </tr>\n",
       "  </tbody>\n",
       "</table>\n",
       "</div>"
      ],
      "text/plain": [
       "   CÓDIGO ONE  NÚM.DA UC  NÚM.DA OBRA                       NOME DO CLIENTE  \\\n",
       "0       13521   642482.0  212200503.0               RANIELE CASTRO DA SILVA   \n",
       "1       13492   651979.0  212200683.0       JOSE FRANCISCO REINALDO TEODORO   \n",
       "2       13888   652183.0  212200996.0         CRISTIANA DA SILVA NASCIMENTO   \n",
       "3       15091   654905.0  212201489.0             RONISON SOARES DE AZEVEDO   \n",
       "4       14943   654934.0  212201530.0           MANELIZE OLIVEIRA  BANDEIRA   \n",
       "5       13477   658167.0  212201288.0                     FRANCISCO FIRMINO   \n",
       "6       15055   658244.0  212202047.0         ANTONIO EUDES SANTOS DA SILVA   \n",
       "7       15613   660907.0  112203279.0          FRANCINETE SIQUEIRA DE MOURA   \n",
       "8       15799   688884.0          NaN  FRANCISCO DAS CHAGAS DE AMORIM SILVA   \n",
       "\n",
       "              CPF                                           ENDERECO  \\\n",
       "0  053.105.462-43  COMUNIDADE SANTA RITA S/N RIO LIBERDADE CENTRO...   \n",
       "1  706.336.242-92  COMUNIDADE SANTA RITA S/N LAGO SAO JOAO CENTRO...   \n",
       "2  994.096.902-34  COMUNIDADE PEDRA PINTADA S/N RIO JURUA CENTRO ...   \n",
       "3  084.526.512-10  RIO JURUA COMUNIDADE ADÃO E EVA    RIO JURUA C...   \n",
       "4  036.392.252-01  RIO JURUA  COMUNIDADE  LUCANIA    RIO JURUA  C...   \n",
       "5  632.937.492-91  COMUNIDADE MUNDURUCUS S/N RIO JURUA CENTRO COM...   \n",
       "6  994.390.002-44  RIO JURUA COMUNIDADE TAPAUNA    RIO JURUA COMU...   \n",
       "7  615.393.252-53                 SERINGAL GRANJA    SERINGAL GRANJA   \n",
       "8  006.641.342-70  BR 364. RIO TAUARI. COLÔNIA BELA VISTA    BR 3...   \n",
       "\n",
       "              MUNICIPIO         REGIONAL    DATA ATENDIMENTO  \\\n",
       "0       CRUZEIRO DO SUL  CRUZEIRO DO SUL 2024-05-07 09:30:00   \n",
       "1       CRUZEIRO DO SUL  CRUZEIRO DO SUL 2024-05-07 15:06:00   \n",
       "2  MARECHAL THAUMATURGO  CRUZEIRO DO SUL 2024-05-06 14:33:00   \n",
       "3  MARECHAL THAUMATURGO  CRUZEIRO DO SUL 2024-05-11 10:23:00   \n",
       "4       CRUZEIRO DO SUL  CRUZEIRO DO SUL 2024-05-05 11:57:00   \n",
       "5       RODRIGUES ALVES  CRUZEIRO DO SUL 2024-05-06 10:30:00   \n",
       "6  MARECHAL THAUMATURGO  CRUZEIRO DO SUL 2024-05-05 16:12:00   \n",
       "7        SENA MADUREIRA       RIO BRANCO 2024-05-08 14:50:00   \n",
       "8              TARAUACA  CRUZEIRO DO SUL 2024-04-25 10:59:00   \n",
       "\n",
       "             PREVENTIVA  ROTA EQUIPE EXECUTORA TIPO/SIGFI            LATITUDE  \\\n",
       "0         INTERMITENCIA   6.0             EQ.7    SIGFI80         -7.72470305   \n",
       "1  MANUT PREVENTIVA  4A   6.0             EQ.7    SIGFI80         -7.68164934   \n",
       "2         INTERMITENCIA   3.0            EQ.14    SIGFI80            -9.37534   \n",
       "3  MANUT PREVENTIVA  4A   3.0             EQ.3    SIGFI80  -9.177375000000001   \n",
       "4         INTERMITENCIA   1.0             EQ.7    SIGFI80         -8.11959252   \n",
       "5         INTERMITENCIA   1.0             EQ.7    SIGFI80         -7.87165408   \n",
       "6         INTERMITENCIA   3.0            EQ.14    SIGFI80            -9.12992   \n",
       "7         INTERMITENCIA  11.0             EQ.6    SIGFI45         -9.15476644   \n",
       "8  MANUT PREVENTIVA  3A  13.0             EQ.7    SIGFI45         -7.93257324   \n",
       "\n",
       "            LONGITUDE         NUMOS  \n",
       "0        -71.99884247  202400030807  \n",
       "1        -71.95136345  202400030799  \n",
       "2  -72.71380500000001  202400030716  \n",
       "3  -72.69680166666667  202400032142  \n",
       "4        -72.78867842  202400030690  \n",
       "5        -72.72349525  202400030682  \n",
       "6  -72.70863666666668  202400030708  \n",
       "7        -69.10088214  202400030849  \n",
       "8        -71.62246386  202400020154  "
      ]
     },
     "execution_count": 12,
     "metadata": {},
     "output_type": "execute_result"
    }
   ],
   "source": [
    "lote"
   ]
  },
  {
   "cell_type": "code",
   "execution_count": 13,
   "id": "7d0b71ed",
   "metadata": {},
   "outputs": [],
   "source": [
    "# Salvando a planilha( .xlsx)\n",
    "dataframe_excel = pd.ExcelWriter(r\"E:\\OEM\\output\\1ºtrache_intebras_ac_preventiva_visita.xlsx\")#r\"E:\\OEM\\output\\1ºtrache_intebras_ac_preventiva_lote17_3ªremessa_2024.xlsx\n",
    "lote.to_excel(dataframe_excel, index=False)\n",
    "dataframe_excel.close()"
   ]
  }
 ],
 "metadata": {
  "kernelspec": {
   "display_name": "Python 3 (ipykernel)",
   "language": "python",
   "name": "python3"
  },
  "language_info": {
   "codemirror_mode": {
    "name": "ipython",
    "version": 3
   },
   "file_extension": ".py",
   "mimetype": "text/x-python",
   "name": "python",
   "nbconvert_exporter": "python",
   "pygments_lexer": "ipython3",
   "version": "3.11.5"
  }
 },
 "nbformat": 4,
 "nbformat_minor": 5
}
